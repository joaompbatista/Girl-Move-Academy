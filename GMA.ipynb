{
 "cells": [
  {
   "cell_type": "code",
   "execution_count": null,
   "metadata": {},
   "outputs": [],
   "source": [
    "import pandas as pd\n",
    "import numpy as np\n",
    "import re\n",
    "import matplotlib.pyplot as plt\n",
    "import seaborn as sns\n",
    "from sklearn import datasets\n",
    "#from sklearn.model_selection import train_test_split\n",
    "#from sklearn.metrics import accuracy_score\n",
    "#from sklearn.preprocessing import MinMaxScaler\n",
    "from kmodes.kmodes import KModes\n",
    "from scipy import stats"
   ]
  },
  {
   "cell_type": "code",
   "execution_count": null,
   "metadata": {},
   "outputs": [],
   "source": [
    "#df=pd.read_csv('Fala-nos mais sobre ti R_S (Respostas)_csv.csv')"
   ]
  },
  {
   "cell_type": "code",
   "execution_count": null,
   "metadata": {},
   "outputs": [],
   "source": [
    "before=pd.read_excel('Fala-nos mais sobre ti R_S (Respostas).xlsx')"
   ]
  },
  {
   "cell_type": "code",
   "execution_count": null,
   "metadata": {},
   "outputs": [],
   "source": [
    "rise=pd.read_excel('Feedback Rise (Respostas).xlsx')"
   ]
  },
  {
   "cell_type": "code",
   "execution_count": null,
   "metadata": {},
   "outputs": [],
   "source": [
    "shine=pd.read_excel('Feedback Shine (Respostas).xlsx')"
   ]
  },
  {
   "cell_type": "code",
   "execution_count": null,
   "metadata": {},
   "outputs": [],
   "source": [
    "rel_impact=pd.read_excel('Relatório de Impacto (Respostas).xlsx')"
   ]
  },
  {
   "cell_type": "code",
   "execution_count": null,
   "metadata": {},
   "outputs": [],
   "source": [
    "print(f'Number of answers before : {before.shape[0]}')\n",
    "print(f'Number of answers rise : {rise.shape[0]}') \n",
    "print(f'Number of answers shine : {shine.shape[0]}') \n",
    "print(f'Number of answers impact : {rel_impact.shape[0]}') "
   ]
  },
  {
   "cell_type": "markdown",
   "metadata": {},
   "source": [
    "## Ficheiro \"Fala-nos mais sobre ti\" (before)"
   ]
  },
  {
   "cell_type": "code",
   "execution_count": null,
   "metadata": {},
   "outputs": [],
   "source": [
    "X=before.copy()"
   ]
  },
  {
   "cell_type": "code",
   "execution_count": null,
   "metadata": {},
   "outputs": [],
   "source": [
    "X.shape"
   ]
  },
  {
   "cell_type": "code",
   "execution_count": null,
   "metadata": {},
   "outputs": [],
   "source": [
    "# Lets rename columns\n",
    "new_names= {\"Já conhecias a GirlMOVE Academy?\":\"Já conhecia a GirlMOVE Academy\",\n",
    "            \"Porque te inscreveste no Rise&Shine? O que esperas aprender?\":\"Razão da inscrição e expectativas\",\n",
    "            \"Qual é a tua ocupação atual?\":\"Ocupação Actual\",\n",
    "            \"Qual é a tua ocupação atual?.1\":\"Ocupação Actual_Descrição\",\n",
    "            \"Quais são para ti os próximos passos?\":\"Próximos Passos\",\n",
    "            \"Qual é o sítio de sonho onde gostarias de trabalhar e porquê?\":\"Trabalho de sonho\",\n",
    "            \"Qual é a tua maior ambição?\": \"Maior ambição\",\n",
    "            \"Se só pudesses escolher uma coisa para fazeres o resto da tua vida o que escolherias?\":\"Apenas uma coisa para fazer durante o resto da vida\",\n",
    "            \"Ao proceder ao preenchimento do formulário supra, tomei conhecimento de que os meus dados serão tratados pela Girl MOVE Academy, com sede na Av. Defensores de Chaves, 69, R/C Esq, Lisboa, e que esses dados serão tratados no âmbito desta iniciativa. Tomei igualmente conhecimento dos meus direitos de acesso, retificação, apagamento, limitação, oposição ou portabilidade relativamente aos meus dados pessoais, direitos que poderão ser exercidos por mim mediante o envio de um correio eletrónico para riseandshine@girlmove.org. \":\"Tratamento de dados\"\n",
    "           }\n",
    "X.columns=X.columns.map(new_names)\n",
    "#df.set_axis(['#new names= {'Já conhecias a GirlMOVE Academy?':}', 'Porque te inscreveste e que esperas aprender?','Ocupação Actual', 'Ocupação Actual_Descrição','Próximos Passos',''])\n",
    "#new names= {'Já conhecias a GirlMOVE Academy?':}"
   ]
  },
  {
   "cell_type": "code",
   "execution_count": null,
   "metadata": {},
   "outputs": [],
   "source": [
    "X.head(2)"
   ]
  },
  {
   "cell_type": "markdown",
   "metadata": {},
   "source": [
    "## Estatísticas dos dados"
   ]
  },
  {
   "cell_type": "code",
   "execution_count": null,
   "metadata": {},
   "outputs": [],
   "source": [
    "X.dtypes"
   ]
  },
  {
   "cell_type": "code",
   "execution_count": null,
   "metadata": {},
   "outputs": [],
   "source": [
    "X.nunique().sort_values(ascending=False)"
   ]
  },
  {
   "cell_type": "code",
   "execution_count": null,
   "metadata": {},
   "outputs": [],
   "source": [
    "sns.countplot(X['Tratamento de dados']);"
   ]
  },
  {
   "cell_type": "code",
   "execution_count": null,
   "metadata": {},
   "outputs": [],
   "source": [
    "X.isnull().sum()"
   ]
  },
  {
   "cell_type": "markdown",
   "metadata": {},
   "source": [
    "#### - There's no missing values, good! We don't have to worry about that"
   ]
  },
  {
   "cell_type": "code",
   "execution_count": null,
   "metadata": {},
   "outputs": [],
   "source": [
    "X['Já conhecia a GirlMOVE Academy'].value_counts()"
   ]
  },
  {
   "cell_type": "code",
   "execution_count": null,
   "metadata": {},
   "outputs": [],
   "source": [
    "sns.countplot(X['Já conhecia a GirlMOVE Academy']);"
   ]
  },
  {
   "cell_type": "code",
   "execution_count": null,
   "metadata": {},
   "outputs": [],
   "source": [
    "X.describe()"
   ]
  },
  {
   "cell_type": "markdown",
   "metadata": {},
   "source": [
    "#### - The table describe shows that the most frequent \"Ocupação Actual_Descrição\" is \"Desempregada\" with 11. However in the excel file there are 12 \"Desempregadas\".\n",
    "#### - Lets find out what happened"
   ]
  },
  {
   "cell_type": "code",
   "execution_count": null,
   "metadata": {},
   "outputs": [],
   "source": [
    "# O CÓDIGO SEGUINTE NÃO É NECESSÁRIO, É APENAS UMA CURIOSIDADE\n",
    "# AO APLICAR O CÓDIGO DA CÉLULA SEGUINTE PARA A FRENTE RESOLVO ESTE PROBLEMA (string tem whitespace no fim ou início. Python considera string diferente)\n",
    "#E TAMBÉM O PROBLEMA DE A MESMA PALAVRA ESTAR ESCRITA UMAS VEZES EM MAIÚSCULAS E OUTRAS EM MINÚSCULAS\n",
    "\n",
    "#First lets look at the 11 values\n",
    "#X.loc[X['Ocupação Actual_Descrição']=='Desempregada'];\n",
    "\n",
    "# Comparing to excel, we know that the index 587 (589 in excel) is the one that is missing in our search for \"desempregada\"\n",
    "#X.loc[587,:]\n",
    "\n",
    "# Eliminate white spaces at the begin and end of a string\n",
    "# X['Ocupação Actual_Descrição']=X['Ocupação Actual_Descrição'].str.strip()\n",
    "# X['Ocupação Actual_Descrição'].value_counts();"
   ]
  },
  {
   "cell_type": "markdown",
   "metadata": {},
   "source": [
    "#### Lets eliminate whitespaces and transform all strings in lower key"
   ]
  },
  {
   "cell_type": "code",
   "execution_count": null,
   "metadata": {},
   "outputs": [],
   "source": [
    "# number of unique values before transformations\n",
    "X.nunique().sort_values(ascending=False)"
   ]
  },
  {
   "cell_type": "code",
   "execution_count": null,
   "metadata": {},
   "outputs": [],
   "source": [
    "# turn all strings lower\n",
    "X=X.applymap(str.lower);\n",
    "# eliminate whitespaces\n",
    "X=X.applymap(str.strip);\n"
   ]
  },
  {
   "cell_type": "code",
   "execution_count": null,
   "metadata": {},
   "outputs": [],
   "source": [
    "# number of unique values after transformations\n",
    "X.nunique().sort_values(ascending=False)"
   ]
  },
  {
   "cell_type": "code",
   "execution_count": null,
   "metadata": {},
   "outputs": [],
   "source": [
    "X.describe()"
   ]
  },
  {
   "cell_type": "markdown",
   "metadata": {},
   "source": [
    "#### Lets try to transform the strings into key words in order to allow us to group information"
   ]
  },
  {
   "cell_type": "code",
   "execution_count": null,
   "metadata": {},
   "outputs": [],
   "source": []
  },
  {
   "cell_type": "markdown",
   "metadata": {},
   "source": [
    "#### Razão da inscrição e expectativas"
   ]
  },
  {
   "cell_type": "code",
   "execution_count": null,
   "metadata": {},
   "outputs": [],
   "source": [
    "#Procurar palavras mais comuns\n",
    "teste= [\" rise&shine \", \" e \", \" ou \", \" com \"]\n",
    "rgx= '|'.join(teste)\n",
    "ocup_split=X['Razão da inscrição e expectativas'].str.replace(rgx,' ')\n",
    "ocup_split=ocup_split.str.split(' ', expand=True)\n",
    "ocup_split\n",
    "novo=ocup_split.stack()\n",
    "novo.value_counts()"
   ]
  },
  {
   "cell_type": "code",
   "execution_count": null,
   "metadata": {},
   "outputs": [],
   "source": []
  },
  {
   "cell_type": "code",
   "execution_count": null,
   "metadata": {},
   "outputs": [],
   "source": []
  },
  {
   "cell_type": "code",
   "execution_count": null,
   "metadata": {},
   "outputs": [],
   "source": [
    "condxx=((X['Razão da inscrição e expectativas'].str.contains(\"descobrir\")))#&(X['Trabalho de sonho'].str.contains(\"trab\")))\n",
    "print((condxx).sum())\n",
    "#X.loc[condxx,['Razão da inscrição e expectativas']]"
   ]
  },
  {
   "cell_type": "markdown",
   "metadata": {},
   "source": [
    "#### Ocupação Actual"
   ]
  },
  {
   "cell_type": "code",
   "execution_count": null,
   "metadata": {},
   "outputs": [],
   "source": [
    "teste= [\" e \", \" ou \", \" com \"]\n",
    "rgx= '|'.join(teste)\n",
    "ocup_split=X['Ocupação Actual'].str.replace(rgx,' ')\n",
    "ocup_split=ocup_split.str.split(' ', expand=True)\n",
    "ocup_split\n",
    "novo=ocup_split.stack()\n",
    "novo.value_counts()\n",
    "#novo.str.contains(\"studante|rabalhadora\").sum()\n",
    "#ocup_split"
   ]
  },
  {
   "cell_type": "code",
   "execution_count": null,
   "metadata": {},
   "outputs": [],
   "source": [
    "# As ocupações mais recorrentes são: desempregada, estudante, trabalhadora, empreendedora, voluntária,\n",
    "#estagiária. Também aparece \"nenhuma\" que é igual a desempregada"
   ]
  },
  {
   "cell_type": "code",
   "execution_count": null,
   "metadata": {},
   "outputs": [],
   "source": [
    "#Vamos criar uma nova coluna agrupando as ocupações mais frequentes\n",
    "i=0;\n",
    "X['Nova Ocupação Actual']=X['Ocupação Actual']\n",
    "\n",
    "for k in X['Ocupação Actual']:\n",
    "    list0=[\"estudante\" in k,\"trabalhado\" in k, \"empreend\" in k];\n",
    "    list1=[\"estudante\" in k,\"trabalhado\" in k];\n",
    "    list2=[\"estudante\" in k,\"empreend\" in k];\n",
    "    list3=[\"estudante\" in k,\"esta\" in k];\n",
    "    list4=[\"estudante\" in k,\"volunt\" in k];\n",
    "    list5=[\"trabalhado\" in k,\"empreend\" in k];\n",
    "    list6=[\"trabalhad\" in k,\"volunt\" in k];\n",
    "    list7=[\"trabalhador\" in k,\"estagi\" in k];\n",
    "    list8=[\"empreende\" in k,\"volunt\" in k];\n",
    "    list9=[\"empreende\" in k,\"estagi\" in k];\n",
    "    list10=[\"volunt\" in k,\"estagi\" in k];\n",
    "    list11=[\"desempreg\" in k];\n",
    "    list12=[\"estuda\" in k];\n",
    "    list13=[\"trabalhador\" in k];\n",
    "    list14=[\"empreen\" in k];\n",
    "    list15=[\"volunt\" in k];\n",
    "    list16=[\"estagi\" in k];\n",
    "    if all(list0):\n",
    "        X['Nova Ocupação Actual'][i]=\"trabalhadora, estudante e empreendedora\"\n",
    "        i=i+1;        \n",
    "    elif all(list1):\n",
    "        X['Nova Ocupação Actual'][i]=\"trabalhadora e estudante\"\n",
    "        i=i+1;\n",
    "    elif all(list2):\n",
    "        X['Nova Ocupação Actual'][i]=\"empreendedora e estudante\"\n",
    "        i=i+1\n",
    "    elif all(list3):\n",
    "        X['Nova Ocupação Actual'][i]=\"estagiária e estudante\"\n",
    "        i=i+1;\n",
    "    elif all(list4):\n",
    "        X['Nova Ocupação Actual'][i]=\"voluntária e estudante\"\n",
    "        i=i+1;\n",
    "    elif all(list5):\n",
    "        X['Nova Ocupação Actual'][i]=\"trabalhadora e empreendedora\"\n",
    "        i=i+1;\n",
    "    elif all(list6):\n",
    "        X['Nova Ocupação Actual'][i]=\"trabalhadora e voluntária\"\n",
    "        i=i+1;\n",
    "    elif all(list7):\n",
    "        X['Nova Ocupação Actual'][i]=\"trabalhadora e estagiária\"\n",
    "        i=i+1;\n",
    "    elif all(list8):\n",
    "        X['Nova Ocupação Actual'][i]=\"empreendedora e voluntária\"\n",
    "        i=i+1;\n",
    "    elif all(list9):\n",
    "        X['Nova Ocupação Actual'][i]=\"empreendedora e estagiária\"\n",
    "        i=i+1;\n",
    "    elif all(list10):\n",
    "        X['Nova Ocupação Actual'][i]=\"voluntária e estagiária\"\n",
    "        i=i+1;\n",
    "    elif all(list11):\n",
    "        X['Nova Ocupação Actual'][i]=\"desempregada\"\n",
    "        i=i+1;\n",
    "    elif all(list12):\n",
    "        X['Nova Ocupação Actual'][i]=\"estudante\"\n",
    "        i=i+1;\n",
    "    elif all(list13):\n",
    "        X['Nova Ocupação Actual'][i]=\"trabalhadora\"\n",
    "        i=i+1;\n",
    "    elif all(list14):\n",
    "        X['Nova Ocupação Actual'][i]=\"empreendedora\"\n",
    "        i=i+1;\n",
    "    elif all(list15):\n",
    "        X['Nova Ocupação Actual'][i]=\"voluntária\"\n",
    "        i=i+1;\n",
    "    elif all(list16):\n",
    "        X['Nova Ocupação Actual'][i]=\"estagiária\"\n",
    "        i=i+1;             \n",
    "    else:\n",
    "        X['Nova Ocupação Actual'][i]=\"Outro\"\n",
    "        i=i+1\n",
    "        "
   ]
  },
  {
   "cell_type": "code",
   "execution_count": null,
   "metadata": {},
   "outputs": [],
   "source": [
    "i"
   ]
  },
  {
   "cell_type": "code",
   "execution_count": null,
   "metadata": {},
   "outputs": [],
   "source": [
    "X[['Ocupação Actual', 'Nova Ocupação Actual']].head()"
   ]
  },
  {
   "cell_type": "code",
   "execution_count": null,
   "metadata": {},
   "outputs": [],
   "source": [
    "X['Nova Ocupação Actual'].value_counts()"
   ]
  },
  {
   "cell_type": "code",
   "execution_count": null,
   "metadata": {},
   "outputs": [],
   "source": [
    "# Aumentar a largura das colunas no dataframe\n",
    "pd.set_option('display.max_colwidth', 260)"
   ]
  },
  {
   "cell_type": "code",
   "execution_count": null,
   "metadata": {},
   "outputs": [],
   "source": [
    "# Ver quais são os outros\n",
    "cond = (X['Nova Ocupação Actual'] == \"Outro\");\n",
    "(X.loc[cond,['Nova Ocupação Actual', 'Ocupação Actual', 'Ocupação Actual_Descrição']])#.groupby('Ocupação Actual')['Nova Ocupação Actual'].count()#.plot.bar()#pie(autopct='%.1f%%', fontsize=16);"
   ]
  },
  {
   "cell_type": "code",
   "execution_count": null,
   "metadata": {},
   "outputs": [],
   "source": [
    "# Vamos incluir os \"outros\" nos campos já existentes\n",
    "# Desempregadas\n",
    "X['Nova Ocupação Actual'][52]=\"desempregada\"\n",
    "X['Nova Ocupação Actual'][143]=\"desempregada\"\n",
    "X['Nova Ocupação Actual'][630]=\"desempregada\"\n",
    "\n",
    "#Trabalhadoras\n",
    "X['Nova Ocupação Actual'][120]=\"trabalhadora\"\n",
    "X['Nova Ocupação Actual'][168]=\"trabalhadora\"\n",
    "X['Nova Ocupação Actual'][469]=\"trabalhadora\"\n",
    "X['Nova Ocupação Actual'][471]=\"trabalhadora\"\n",
    "X['Nova Ocupação Actual'][498]=\"trabalhadora\"\n",
    "X['Nova Ocupação Actual'][499]=\"trabalhadora\"\n",
    "X['Nova Ocupação Actual'][637]=\"trabalhadora\"\n",
    "X['Nova Ocupação Actual'][709]=\"trabalhadora\"\n",
    "\n",
    "#trabalhadora e estudante\n",
    "X['Nova Ocupação Actual'][163]=\"trabalhadora e estudante\"\n",
    "X['Nova Ocupação Actual'][516]=\"trabalhadora e estudante\"\n",
    "\n",
    "#estudante\n",
    "X['Nova Ocupação Actual'][415]=\"estudante\"\n",
    "\n",
    "#estagiária\n",
    "X['Nova Ocupação Actual'][475]=\"estagiária\"\n",
    "X['Nova Ocupação Actual'][584]=\"estagiária\"\n",
    "\n",
    "#empreendedora\n",
    "X['Nova Ocupação Actual'][150]=\"empreendedora\"\n",
    "X['Nova Ocupação Actual'][926]=\"empreendedora\"\n",
    "\n",
    "#estudante e voluntária\n",
    "X['Nova Ocupação Actual'][375]=\"voluntária e estudante\""
   ]
  },
  {
   "cell_type": "code",
   "execution_count": null,
   "metadata": {},
   "outputs": [],
   "source": [
    "X['Nova Ocupação Actual'].value_counts()"
   ]
  },
  {
   "cell_type": "code",
   "execution_count": null,
   "metadata": {},
   "outputs": [],
   "source": [
    "# Dada a dimensão do dataset (1097 entradas) e tendo em conta que as ocupações \"estudante\", \"trabalhadora\",\n",
    "# \"trabalhadora e estudante\", \"empreendedora\" e \"desempregada\" correpondem a cerca de 93% das entradas,\n",
    "# vamos eliminar as restantes"
   ]
  },
  {
   "cell_type": "code",
   "execution_count": null,
   "metadata": {},
   "outputs": [],
   "source": [
    "eliminar=X[(X['Nova Ocupação Actual']==\"voluntária\") | (X['Nova Ocupação Actual']==\"voluntária e estudante\") |\n",
    "           (X['Nova Ocupação Actual']==\"estagiária e estudante\") | (X['Nova Ocupação Actual']==\"trabalhadora, estudante e empreendedora\") |\n",
    "            (X['Nova Ocupação Actual']==\"empreendedora e estagiária\") | (X['Nova Ocupação Actual']==\"trabalhadora e empreendedora\") |\n",
    "            (X['Nova Ocupação Actual']==\"estagiária\") | (X['Nova Ocupação Actual']==\"empreendedora e estudante\")].index"
   ]
  },
  {
   "cell_type": "code",
   "execution_count": null,
   "metadata": {},
   "outputs": [],
   "source": [
    "X.drop(eliminar,inplace=True)"
   ]
  },
  {
   "cell_type": "code",
   "execution_count": null,
   "metadata": {},
   "outputs": [],
   "source": [
    "X.reset_index(drop=True, inplace=True)"
   ]
  },
  {
   "cell_type": "code",
   "execution_count": null,
   "metadata": {},
   "outputs": [],
   "source": [
    "X['Nova Ocupação Actual'].value_counts()"
   ]
  },
  {
   "cell_type": "code",
   "execution_count": null,
   "metadata": {},
   "outputs": [],
   "source": []
  },
  {
   "cell_type": "markdown",
   "metadata": {},
   "source": [
    "#### Ocupação Actual_Descrição"
   ]
  },
  {
   "cell_type": "code",
   "execution_count": null,
   "metadata": {},
   "outputs": [],
   "source": [
    "teste= [\" e \", \" ou \", \" com \"]\n",
    "ocup_split=X['Ocupação Actual_Descrição'].str.replace(rgx,' ')\n",
    "ocup_split=ocup_split.str.split(' ', expand=True)\n",
    "ocup_split\n",
    "novo=ocup_split.stack()\n",
    "novo.value_counts()\n",
    "#novo.str.contains(\"studante|rabalhadora\").sum()\n",
    "#ocup_split"
   ]
  },
  {
   "cell_type": "markdown",
   "metadata": {},
   "source": [
    "##### Estudantes"
   ]
  },
  {
   "cell_type": "code",
   "execution_count": null,
   "metadata": {},
   "outputs": [],
   "source": [
    "print(((X['Ocupação Actual_Descrição'].str.contains(\"univer\"))&(X['Ocupação Actual_Descrição'].str.contains(\"mond\"))&(X['Nova Ocupação Actual']==\"estudante\")).sum())"
   ]
  },
  {
   "cell_type": "code",
   "execution_count": null,
   "metadata": {},
   "outputs": [],
   "source": [
    "print(((X['Ocupação Actual_Descrição'].str.contains(\"univer\"))&(X['Ocupação Actual_Descrição'].str.contains(\"mondlane\"))&(X['Nova Ocupação Actual']==\"estudante\")).sum())"
   ]
  },
  {
   "cell_type": "code",
   "execution_count": null,
   "metadata": {},
   "outputs": [],
   "source": [
    "cond=((X['Ocupação Actual_Descrição'].str.contains(\"univer\"))&(X['Ocupação Actual_Descrição'].str.contains(\"mond\"))&~(X['Ocupação Actual_Descrição'].str.contains(\"mondlane\"))&(X['Nova Ocupação Actual']==\"estudante\"))\n",
    "(X.loc[cond,['Nova Ocupação Actual', 'Ocupação Actual', 'Ocupação Actual_Descrição']])"
   ]
  },
  {
   "cell_type": "code",
   "execution_count": null,
   "metadata": {},
   "outputs": [],
   "source": [
    "i=0;\n",
    "X['Nova Ocupação Actual_Descrição']=X['Ocupação Actual_Descrição']\n",
    "cnt=0\n",
    "for k in X['Ocupação Actual_Descrição']:\n",
    "    list0=[\"univer\" in k,\"mond\" in k];\n",
    "    if X['Nova Ocupação Actual'][i]==\"estudante\":\n",
    "        if all(list0):\n",
    "            X['Nova Ocupação Actual_Descrição'][i]=\"Universidade Eduardo Mondlane\"\n",
    "    i+=1;        "
   ]
  },
  {
   "cell_type": "code",
   "execution_count": null,
   "metadata": {},
   "outputs": [],
   "source": [
    "print(((X['Ocupação Actual_Descrição'].str.contains(\"univer\"))&~(X['Nova Ocupação Actual_Descrição']==\"Universidade Eduardo Mondlane\")&(X['Nova Ocupação Actual']==\"estudante\")).sum())"
   ]
  },
  {
   "cell_type": "code",
   "execution_count": null,
   "metadata": {},
   "outputs": [],
   "source": [
    "cond=((X['Ocupação Actual_Descrição'].str.contains(\"univer\"))&~(X['Nova Ocupação Actual_Descrição']==\"Universidade Eduardo Mondlane\")&(X['Nova Ocupação Actual']==\"estudante\"))\n",
    "(X.loc[cond,['Nova Ocupação Actual', 'Ocupação Actual', 'Ocupação Actual_Descrição']])['Ocupação Actual_Descrição'].value_counts()"
   ]
  },
  {
   "cell_type": "code",
   "execution_count": null,
   "metadata": {},
   "outputs": [],
   "source": [
    "# Rovuna, católica, zambeze, licungo, lurio ou lúrio, wutive, pedagógica, politécnica, alberto chipande\n",
    "print('Rovuna')\n",
    "print(((X['Ocupação Actual_Descrição'].str.contains(\"univer\"))&(X['Ocupação Actual_Descrição'].str.contains(\"rovu\"))&~(X['Nova Ocupação Actual_Descrição']==\"Universidade Eduardo Mondlane\")&(X['Nova Ocupação Actual']==\"estudante\")).sum())\n",
    "\n",
    "cond1c=((X['Ocupação Actual_Descrição'].str.contains(\"catolica\"))|(X['Ocupação Actual_Descrição'].str.contains(\"católica\")))\n",
    "cond2c=((X['Ocupação Actual_Descrição'].str.contains(\"univer\"))&~(X['Nova Ocupação Actual_Descrição']==\"Universidade Eduardo Mondlane\")&(X['Nova Ocupação Actual']==\"estudante\"))\n",
    "print('católica')\n",
    "print((cond1c & cond2c).sum())\n",
    "\n",
    "cond1z=((X['Ocupação Actual_Descrição'].str.contains(\"zambé\"))|(X['Ocupação Actual_Descrição'].str.contains(\"zambe\")))\n",
    "cond2z=((X['Ocupação Actual_Descrição'].str.contains(\"univer\"))&~(X['Nova Ocupação Actual_Descrição']==\"Universidade Eduardo Mondlane\")&(X['Nova Ocupação Actual']==\"estudante\"))\n",
    "print('zambeze')\n",
    "print((cond1z & cond2z).sum())\n",
    "\n",
    "cond1l=((X['Ocupação Actual_Descrição'].str.contains(\"licungo\")))#|(X['Ocupação Actual_Descrição'].str.contains(\"zambe\")))\n",
    "cond2l=((X['Ocupação Actual_Descrição'].str.contains(\"univer\"))&~(X['Nova Ocupação Actual_Descrição']==\"Universidade Eduardo Mondlane\")&(X['Nova Ocupação Actual']==\"estudante\"))\n",
    "print('licungo')\n",
    "print((cond1l & cond2l).sum())\n",
    "\n",
    "cond1lu=((X['Ocupação Actual_Descrição'].str.contains(\"lurio\"))|(X['Ocupação Actual_Descrição'].str.contains(\"lúrio\")))\n",
    "cond2lu=((X['Ocupação Actual_Descrição'].str.contains(\"univer\"))&~(X['Nova Ocupação Actual_Descrição']==\"Universidade Eduardo Mondlane\")&(X['Nova Ocupação Actual']==\"estudante\"))\n",
    "print('lurio')\n",
    "print((cond1lu & cond2lu).sum())\n",
    "\n",
    "cond1w=((X['Ocupação Actual_Descrição'].str.contains(\"wutive\")))#|(X['Ocupação Actual_Descrição'].str.contains(\"zambe\")))\n",
    "cond2w=((X['Ocupação Actual_Descrição'].str.contains(\"univer\"))&~(X['Nova Ocupação Actual_Descrição']==\"Universidade Eduardo Mondlane\")&(X['Nova Ocupação Actual']==\"estudante\"))\n",
    "print('wutive')\n",
    "print((cond1w & cond2w).sum())\n",
    "\n",
    "cond1pe=((X['Ocupação Actual_Descrição'].str.contains(\"pedagó\"))|(X['Ocupação Actual_Descrição'].str.contains(\"pedago\")))\n",
    "cond2pe=((X['Ocupação Actual_Descrição'].str.contains(\"univer\"))&~(X['Nova Ocupação Actual_Descrição']==\"Universidade Eduardo Mondlane\")&(X['Nova Ocupação Actual']==\"estudante\"))\n",
    "print('pedagógica maputo')\n",
    "print((cond1pe & cond2pe).sum())\n",
    "\n",
    "cond1po=((X['Ocupação Actual_Descrição'].str.contains(\"polité\"))|(X['Ocupação Actual_Descrição'].str.contains(\"polite\")))\n",
    "cond2po=((X['Ocupação Actual_Descrição'].str.contains(\"univer\"))&~(X['Nova Ocupação Actual_Descrição']==\"Universidade Eduardo Mondlane\")&(X['Nova Ocupação Actual']==\"estudante\"))\n",
    "print('politécnica')\n",
    "print((cond1po & cond2po).sum())\n",
    "\n",
    "cond1ch=((X['Ocupação Actual_Descrição'].str.contains(\"chipa\")))#|(X['Ocupação Actual_Descrição'].str.contains(\"polite\")))\n",
    "cond2ch=(~(X['Nova Ocupação Actual_Descrição']==\"Universidade Eduardo Mondlane\")&(X['Nova Ocupação Actual']==\"estudante\"))\n",
    "print('alberto chipande')\n",
    "print((cond1ch & cond2ch).sum())\n",
    "\n",
    "\n",
    "\n",
    "#print(f'Number  : {(((X['Ocupação Actual_Descrição'].str.contains(\"univer\"))&~(X['Nova Ocupação Actual_Descrição']==\"Universidade Eduardo Mondlane\")&(X['Nova Ocupação Actual']==\"estudante\")).sum())}')"
   ]
  },
  {
   "cell_type": "code",
   "execution_count": null,
   "metadata": {},
   "outputs": [],
   "source": [
    "# Vamos agrupar as que têm mais de 20 ocorrências num grupo - rovuna, católica, lurio, pedagógica maputo\n",
    "\n",
    "i=0;\n",
    "#X['Nova Ocupação Actual_Descrição']=X['Ocupação Actual_Descrição']\n",
    "\n",
    "for k in X['Ocupação Actual_Descrição']:\n",
    "    list0=[\"univer\" in k,\"mond\" in k];\n",
    "    list1=[\"univer\" in k,\"rovu\" in k];\n",
    "    list2=[\"univer\" in k,\"católica\" in k];\n",
    "    list3=[\"univer\" in k,\"catolica\" in k];\n",
    "    list6=[\"univer\" in k,\"lurio\" in k];\n",
    "    list7=[\"univer\" in k,\"lúrio\" in k];\n",
    "    list8=[\"univer\" in k,\"pedagó\" in k];\n",
    "    list9=[\"univer\" in k,\"pedago\" in k];\n",
    "\n",
    "\n",
    "    if X['Nova Ocupação Actual'][i]==\"estudante\":\n",
    "        if all(list0):\n",
    "            X['Nova Ocupação Actual_Descrição'][i]=\"Universidade Eduardo Mondlane\"\n",
    "        elif all(list1):\n",
    "            X['Nova Ocupação Actual_Descrição'][i]=\"Universidade Rovuna\"\n",
    "        elif all(list2) or all(list3):\n",
    "            X['Nova Ocupação Actual_Descrição'][i]=\"Universidade Católica\"       \n",
    "        elif all(list6) or all(list7):\n",
    "            X['Nova Ocupação Actual_Descrição'][i]=\"Universidade Lúrio\"\n",
    "        elif all(list8) or all(list9):\n",
    "            X['Nova Ocupação Actual_Descrição'][i]=\"Universidade Pedagógica\"\n",
    "        else:\n",
    "            X['Nova Ocupação Actual_Descrição'][i]=\"Outra Universidade/Não indicada\"\n",
    "    i+=1"
   ]
  },
  {
   "cell_type": "code",
   "execution_count": null,
   "metadata": {},
   "outputs": [],
   "source": [
    "i"
   ]
  },
  {
   "cell_type": "code",
   "execution_count": null,
   "metadata": {},
   "outputs": [],
   "source": [
    "(X.loc[X['Nova Ocupação Actual']==\"estudante\",['Nova Ocupação Actual_Descrição']]['Nova Ocupação Actual_Descrição']).value_counts()"
   ]
  },
  {
   "cell_type": "code",
   "execution_count": null,
   "metadata": {},
   "outputs": [],
   "source": [
    "plt.figure(figsize=(10,8))\n",
    "ax=(X.loc[(X['Nova Ocupação Actual']==\"estudante\"),['Nova Ocupação Actual_Descrição', 'Nova Ocupação Actual']]).groupby('Nova Ocupação Actual_Descrição')['Nova Ocupação Actual'].count().plot(kind='pie',autopct='%.1f%%', fontsize=14)\n",
    "ax.yaxis.set_visible(False)\n",
    "# save the figure\n",
    "plt.savefig('universidades.png', dpi=300)"
   ]
  },
  {
   "cell_type": "code",
   "execution_count": null,
   "metadata": {},
   "outputs": [],
   "source": [
    "plt.figure(figsize=(10,8))\n",
    "ax=(X.loc[((X['Nova Ocupação Actual']==\"estudante\") & ~(X['Nova Ocupação Actual_Descrição']==\"Outra Universidade/Não indicada\")),['Nova Ocupação Actual_Descrição', 'Nova Ocupação Actual']]).groupby('Nova Ocupação Actual_Descrição')['Nova Ocupação Actual'].count().sort_values(ascending=False).plot.pie(autopct='%.1f%%', fontsize=12)\n",
    "ax.yaxis.set_visible(False)\n",
    "# save the figure\n",
    "plt.savefig('universidades_inidivduais.png', dpi=300)"
   ]
  },
  {
   "cell_type": "code",
   "execution_count": null,
   "metadata": {},
   "outputs": [],
   "source": [
    "eliminar=['Universidade Rovuna','Universidade Católica','Universidade Lúrio','Universidade Pedagógica']\n",
    "X['Nova Ocupação Actual_Descrição']=X['Nova Ocupação Actual_Descrição'].replace(eliminar,'Universidade Rovuna/Católica/Lúrio/Pedagógica')"
   ]
  },
  {
   "cell_type": "code",
   "execution_count": null,
   "metadata": {},
   "outputs": [],
   "source": [
    "#(X.loc[X['Nova Ocupação Actual']==\"trabalhadora\",['Nova Ocupação Actual_Descrição']]['Nova Ocupação Actual_Descrição']).value_counts()"
   ]
  },
  {
   "cell_type": "code",
   "execution_count": null,
   "metadata": {},
   "outputs": [],
   "source": [
    "plt.figure(figsize=(10,8))\n",
    "ax=(X.loc[(X['Nova Ocupação Actual']==\"estudante\"),['Nova Ocupação Actual_Descrição', 'Nova Ocupação Actual']]).groupby('Nova Ocupação Actual_Descrição')['Nova Ocupação Actual'].count().plot(kind='pie',autopct='%.1f%%', fontsize=14)\n",
    "ax.yaxis.set_visible(False)\n",
    "# save the figure\n",
    "plt.savefig('universidades_group.png', dpi=300)"
   ]
  },
  {
   "cell_type": "markdown",
   "metadata": {},
   "source": [
    "#### Trabalhadoras"
   ]
  },
  {
   "cell_type": "code",
   "execution_count": null,
   "metadata": {},
   "outputs": [],
   "source": [
    "teste= [\" de \",\" e \", \" ou \", \" com \"]\n",
    "ocup_split=(X.loc[X['Nova Ocupação Actual']==\"trabalhadora\",['Ocupação Actual_Descrição']]['Ocupação Actual_Descrição']).str.replace(rgx,' ')\n",
    "ocup_split=ocup_split.str.split(' ', expand=True)\n",
    "ocup_split\n",
    "novo=ocup_split.stack()\n",
    "novo.value_counts()\n",
    "#novo.str.contains(\"studante|rabalhadora\").sum()\n",
    "#ocup_split"
   ]
  },
  {
   "cell_type": "code",
   "execution_count": null,
   "metadata": {},
   "outputs": [],
   "source": [
    "(X.loc[X['Nova Ocupação Actual']==\"trabalhadora\",['Ocupação Actual_Descrição']])['Ocupação Actual_Descrição'].value_counts()"
   ]
  },
  {
   "cell_type": "code",
   "execution_count": null,
   "metadata": {},
   "outputs": [],
   "source": [
    "cond1tec=((X['Ocupação Actual_Descrição'].str.contains(\"tecnica\"))|(X['Ocupação Actual_Descrição'].str.contains(\"técnica\")))\n",
    "cond2tec=((X['Nova Ocupação Actual']==\"trabalhadora\"))\n",
    "print('Técnica')\n",
    "print((cond1tec & cond2tec).sum())\n",
    "\n",
    "cond1pro=((X['Ocupação Actual_Descrição'].str.contains(\"profess\"))|(X['Ocupação Actual_Descrição'].str.contains(\"esco\"))|(X['Ocupação Actual_Descrição'].str.contains(\"univer\")))\n",
    "cond2pro=((X['Nova Ocupação Actual']==\"trabalhadora\"))\n",
    "print('Professora')\n",
    "print((cond1pro & cond2pro).sum())\n",
    "\n",
    "cond1med=((X['Ocupação Actual_Descrição'].str.contains(\"medic\"))|(X['Ocupação Actual_Descrição'].str.contains(\"médic\"))|(X['Ocupação Actual_Descrição'].str.contains(\"advog\")))\n",
    "cond2med=((X['Nova Ocupação Actual']==\"trabalhadora\"))\n",
    "print('Médica/Advogada')\n",
    "print((cond1med & cond2med).sum())\n",
    "\n",
    "cond1s=((X['Ocupação Actual_Descrição'].str.contains(\"secretária\"))|(X['Ocupação Actual_Descrição'].str.contains(\"secretar\"))|(X['Ocupação Actual_Descrição'].str.contains(\"administrat\"))|(X['Ocupação Actual_Descrição'].str.contains(\"assist\")))\n",
    "cond2s=((X['Nova Ocupação Actual']==\"trabalhadora\"))\n",
    "print('Secretária/Assistente/Administrativa')\n",
    "print((cond1s & cond2s).sum())\n",
    "\n",
    "cond1g=((X['Ocupação Actual_Descrição'].str.contains(\"gestor\")))#|(X['Ocupação Actual_Descrição'].str.contains(\"médic\")))\n",
    "cond2g=((X['Nova Ocupação Actual']==\"trabalhadora\"))\n",
    "print('Gestora')\n",
    "print((cond1g & cond2g).sum())\n",
    "\n",
    "cond1v=((X['Ocupação Actual_Descrição'].str.contains(\"vended\"))|(X['Ocupação Actual_Descrição'].str.contains(\"venda\")))\n",
    "cond2v=((X['Nova Ocupação Actual']==\"trabalhadora\"))\n",
    "print('vendedora')\n",
    "print((cond1v & cond2v).sum())\n",
    "\n"
   ]
  },
  {
   "cell_type": "code",
   "execution_count": null,
   "metadata": {},
   "outputs": [],
   "source": [
    "# Vamos agrupar as que têm mais de 20 ocorrências num grupo - rovuna, católica, lurio, pedagógica maputo\n",
    "\n",
    "i=0;\n",
    "#X['Nova Ocupação Actual_Descrição']=X['Ocupação Actual_Descrição']\n",
    "\n",
    "for k in X['Ocupação Actual_Descrição']:\n",
    "\n",
    "    list10=[\"técnica\" in k];\n",
    "    list11=[\"tecnica\" in k];    \n",
    "    list12=[\"profess\" in k];\n",
    "    list13=[\"esco\" in k];\n",
    "    list14=[\"univer\" in k];\n",
    "    list15=[\"medic\" in k];\n",
    "    list16=[\"médic\" in k];\n",
    "    list17=[\"advog\" in k];\n",
    "    list18=[\"secretár\" in k];\n",
    "    list19=[\"secretar\" in k];\n",
    "    list20=[\"administrat\" in k];\n",
    "    list21=[\"assist\" in k];\n",
    "    list22=[\"gestor\" in k];\n",
    "    list23=[\"vended\" in k];\n",
    "    list24=[\"venda\" in k];\n",
    "    \n",
    "    if X['Nova Ocupação Actual'][i]==\"trabalhadora\":\n",
    "        if all(list10) or all(list11):\n",
    "            X['Nova Ocupação Actual_Descrição'][i]=\"Técnica\"\n",
    "        elif all(list12) or all(list13) or all(list14):\n",
    "            X['Nova Ocupação Actual_Descrição'][i]=\"Professora\"\n",
    "        elif all(list15) or all(list16) or all(list17):\n",
    "            X['Nova Ocupação Actual_Descrição'][i]=\"Médica/Advogada\"\n",
    "        elif all(list18) or all(list19) or all(list20) or all(list21):\n",
    "            X['Nova Ocupação Actual_Descrição'][i]=\"Secretária/Assistente/Administrativa\"\n",
    "        elif all(list22):\n",
    "            X['Nova Ocupação Actual_Descrição'][i]=\"Gestora\"\n",
    "        elif all(list23) or all(list24):\n",
    "            X['Nova Ocupação Actual_Descrição'][i]=\"Vendedora\"\n",
    "        else:\n",
    "            X['Nova Ocupação Actual_Descrição'][i]=\"Outro Trabalho\"\n",
    "\n",
    "    i=i+1;"
   ]
  },
  {
   "cell_type": "code",
   "execution_count": null,
   "metadata": {},
   "outputs": [],
   "source": [
    "(X.loc[X['Nova Ocupação Actual']==\"trabalhadora\",['Nova Ocupação Actual_Descrição']]['Nova Ocupação Actual_Descrição']).value_counts()"
   ]
  },
  {
   "cell_type": "code",
   "execution_count": null,
   "metadata": {},
   "outputs": [],
   "source": [
    "# Vanmos incluir as \"empreendedoras\" na ocupação \"trabalhadoras\" e dar uma descrição de \"tem trabalho próprio\"\n",
    "i=0;\n",
    "\n",
    "for k in X['Ocupação Actual_Descrição']:\n",
    "    if X['Nova Ocupação Actual'][i]==\"empreendedora\":\n",
    "        X['Nova Ocupação Actual_Descrição'][i]=\"Tem trabalho próprio\"\n",
    "        X['Nova Ocupação Actual'][i]=\"trabalhadora\"\n",
    "    i+=1        \n",
    "    "
   ]
  },
  {
   "cell_type": "code",
   "execution_count": null,
   "metadata": {},
   "outputs": [],
   "source": [
    "plt.figure(figsize=(10,8))\n",
    "ax=X['Nova Ocupação Actual'].value_counts().plot(kind='pie', autopct='%.1f%%', fontsize=14);\n",
    "ax.yaxis.set_visible(False)\n",
    "plt.savefig('Ocupacoes.png', dpi=300)"
   ]
  },
  {
   "cell_type": "code",
   "execution_count": null,
   "metadata": {},
   "outputs": [],
   "source": [
    "(X.loc[X['Nova Ocupação Actual']==\"trabalhadora\",['Nova Ocupação Actual_Descrição']]['Nova Ocupação Actual_Descrição']).value_counts()"
   ]
  },
  {
   "cell_type": "code",
   "execution_count": null,
   "metadata": {},
   "outputs": [],
   "source": [
    "(X.loc[X['Nova Ocupação Actual']==\"trabalhadora\",['Nova Ocupação Actual_Descrição', 'Nova Ocupação Actual']]).groupby('Nova Ocupação Actual_Descrição')['Nova Ocupação Actual'].count().sort_values(ascending=False).plot.bar(fontsize=9, figsize=[6,4]);#pie(autopct='%.1f%%', fontsize=16);\n",
    "plt.savefig('trabalhos.png', dpi=300)\n"
   ]
  },
  {
   "cell_type": "code",
   "execution_count": null,
   "metadata": {},
   "outputs": [],
   "source": [
    "eliminar=['Gestora','Médica/Advogada','Vendedora', 'Técnica']\n",
    "X['Nova Ocupação Actual_Descrição']=X['Nova Ocupação Actual_Descrição'].replace(eliminar,'Outro Trabalho')"
   ]
  },
  {
   "cell_type": "code",
   "execution_count": null,
   "metadata": {},
   "outputs": [],
   "source": [
    "(X.loc[X['Nova Ocupação Actual']==\"trabalhadora\",['Nova Ocupação Actual_Descrição']]['Nova Ocupação Actual_Descrição']).value_counts()"
   ]
  },
  {
   "cell_type": "code",
   "execution_count": null,
   "metadata": {},
   "outputs": [],
   "source": [
    "plt.figure(figsize=(10,8))\n",
    "ax=(X.loc[X['Nova Ocupação Actual']==\"trabalhadora\",['Nova Ocupação Actual_Descrição', 'Nova Ocupação Actual']]).groupby('Nova Ocupação Actual_Descrição')['Nova Ocupação Actual'].count().sort_values(ascending=False).plot.pie(autopct='%.1f%%', fontsize=12)\n",
    "ax.yaxis.set_visible(False)\n",
    "plt.savefig('trabalho_group.png', dpi=300)"
   ]
  },
  {
   "cell_type": "markdown",
   "metadata": {},
   "source": [
    "#### Desempregadas"
   ]
  },
  {
   "cell_type": "code",
   "execution_count": null,
   "metadata": {},
   "outputs": [],
   "source": [
    "# Ver se obtemos alguma informação relevante das desempregadas\n",
    "(X.loc[X['Nova Ocupação Actual']==\"desempregada\",['Ocupação Actual_Descrição']])['Ocupação Actual_Descrição'].value_counts()"
   ]
  },
  {
   "cell_type": "code",
   "execution_count": null,
   "metadata": {},
   "outputs": [],
   "source": [
    "i=0;\n",
    "\n",
    "for k in X['Ocupação Actual_Descrição']:\n",
    "    if X['Nova Ocupação Actual'][i]==\"desempregada\":\n",
    "        X['Nova Ocupação Actual_Descrição'][i]=\"desempregada\"\n",
    "    i+=1        \n",
    "    "
   ]
  },
  {
   "cell_type": "code",
   "execution_count": null,
   "metadata": {},
   "outputs": [],
   "source": [
    "X['Nova Ocupação Actual'].value_counts()"
   ]
  },
  {
   "cell_type": "markdown",
   "metadata": {},
   "source": [
    "#### Trabalhadoras e estudantes"
   ]
  },
  {
   "cell_type": "code",
   "execution_count": null,
   "metadata": {},
   "outputs": [],
   "source": [
    "cond1tec=((X['Ocupação Actual_Descrição'].str.contains(\"tecnica\"))|(X['Ocupação Actual_Descrição'].str.contains(\"técnica\")))\n",
    "cond2tec=((X['Nova Ocupação Actual']==\"trabalhadora e estudante\"))\n",
    "print('Técnica')\n",
    "print((cond1tec & cond2tec).sum())\n",
    "\n",
    "cond1pro=((X['Ocupação Actual_Descrição'].str.contains(\"profess\"))|(X['Ocupação Actual_Descrição'].str.contains(\"esco\"))|(X['Ocupação Actual_Descrição'].str.contains(\"univer\")))\n",
    "cond2pro=((X['Nova Ocupação Actual']==\"trabalhadora e estudante\"))\n",
    "print('Professora')\n",
    "print((cond1pro & cond2pro).sum())\n",
    "\n",
    "cond1med=((X['Ocupação Actual_Descrição'].str.contains(\"medic\"))|(X['Ocupação Actual_Descrição'].str.contains(\"médic\"))|(X['Ocupação Actual_Descrição'].str.contains(\"advog\")))\n",
    "cond2med=((X['Nova Ocupação Actual']==\"trabalhadora e estudante\"))\n",
    "print('Médica/Advogada')\n",
    "print((cond1med & cond2med).sum())\n",
    "\n",
    "cond1s=((X['Ocupação Actual_Descrição'].str.contains(\"secretária\"))|(X['Ocupação Actual_Descrição'].str.contains(\"secretar\"))|(X['Ocupação Actual_Descrição'].str.contains(\"administrat\"))|(X['Ocupação Actual_Descrição'].str.contains(\"assist\")))\n",
    "cond2s=((X['Nova Ocupação Actual']==\"trabalhadora e estudante\"))\n",
    "print('Secretária/Assistente/Administrativa')\n",
    "print((cond1s & cond2s).sum())\n",
    "\n",
    "cond1g=((X['Ocupação Actual_Descrição'].str.contains(\"gestor\")))#|(X['Ocupação Actual_Descrição'].str.contains(\"médic\")))\n",
    "cond2g=((X['Nova Ocupação Actual']==\"trabalhadora e estudante\"))\n",
    "print('Gestora')\n",
    "print((cond1g & cond2g).sum())\n",
    "\n",
    "cond1v=((X['Ocupação Actual_Descrição'].str.contains(\"vended\"))|(X['Ocupação Actual_Descrição'].str.contains(\"venda\")))\n",
    "cond2v=((X['Nova Ocupação Actual']==\"trabalhadora e estudante\"))\n",
    "print('vendedora')\n",
    "print((cond1v & cond2v).sum())\n"
   ]
  },
  {
   "cell_type": "code",
   "execution_count": null,
   "metadata": {},
   "outputs": [],
   "source": [
    "print('Eduardo Mondlane')\n",
    "print(((X['Ocupação Actual_Descrição'].str.contains(\"univer\"))&(X['Ocupação Actual_Descrição'].str.contains(\"mond\"))&(X['Nova Ocupação Actual']==\"trabalhadora e estudante\")).sum())\n",
    "\n",
    "print('Rovuna')\n",
    "print(((X['Ocupação Actual_Descrição'].str.contains(\"univer\"))&(X['Ocupação Actual_Descrição'].str.contains(\"rovu\"))&~(X['Nova Ocupação Actual_Descrição']==\"Universidade Eduardo Mondlane\")&(X['Nova Ocupação Actual']==\"trabalhadora e estudante\")).sum())\n",
    "\n",
    "cond1c=((X['Ocupação Actual_Descrição'].str.contains(\"catolica\"))|(X['Ocupação Actual_Descrição'].str.contains(\"católica\")))\n",
    "cond2c=((X['Ocupação Actual_Descrição'].str.contains(\"univer\"))&~(X['Nova Ocupação Actual_Descrição']==\"Universidade Eduardo Mondlane\")&(X['Nova Ocupação Actual']==\"trabalhadora e estudante\"))\n",
    "print('católica')\n",
    "print((cond1c & cond2c).sum())\n",
    "\n",
    "cond1z=((X['Ocupação Actual_Descrição'].str.contains(\"zambé\"))|(X['Ocupação Actual_Descrição'].str.contains(\"zambe\")))\n",
    "cond2z=((X['Ocupação Actual_Descrição'].str.contains(\"univer\"))&~(X['Nova Ocupação Actual_Descrição']==\"Universidade Eduardo Mondlane\")&(X['Nova Ocupação Actual']==\"trabalhadora e estudante\"))\n",
    "print('zambeze')\n",
    "print((cond1z & cond2z).sum())\n",
    "\n",
    "cond1l=((X['Ocupação Actual_Descrição'].str.contains(\"licungo\")))#|(X['Ocupação Actual_Descrição'].str.contains(\"zambe\")))\n",
    "cond2l=((X['Ocupação Actual_Descrição'].str.contains(\"univer\"))&~(X['Nova Ocupação Actual_Descrição']==\"Universidade Eduardo Mondlane\")&(X['Nova Ocupação Actual']==\"trabalhadora e estudante\"))\n",
    "print('licungo')\n",
    "print((cond1l & cond2l).sum())\n",
    "\n",
    "cond1lu=((X['Ocupação Actual_Descrição'].str.contains(\"lurio\"))|(X['Ocupação Actual_Descrição'].str.contains(\"lúrio\")))\n",
    "cond2lu=((X['Ocupação Actual_Descrição'].str.contains(\"univer\"))&~(X['Nova Ocupação Actual_Descrição']==\"Universidade Eduardo Mondlane\")&(X['Nova Ocupação Actual']==\"trabalhadora e estudante\"))\n",
    "print('lurio')\n",
    "print((cond1lu & cond2lu).sum())\n",
    "\n",
    "cond1w=((X['Ocupação Actual_Descrição'].str.contains(\"wutive\")))#|(X['Ocupação Actual_Descrição'].str.contains(\"zambe\")))\n",
    "cond2w=((X['Ocupação Actual_Descrição'].str.contains(\"univer\"))&~(X['Nova Ocupação Actual_Descrição']==\"Universidade Eduardo Mondlane\")&(X['Nova Ocupação Actual']==\"trabalhadora e estudante\"))\n",
    "print('wutive')\n",
    "print((cond1w & cond2w).sum())\n",
    "\n",
    "cond1pe=((X['Ocupação Actual_Descrição'].str.contains(\"pedagó\"))|(X['Ocupação Actual_Descrição'].str.contains(\"pedago\")))\n",
    "cond2pe=((X['Ocupação Actual_Descrição'].str.contains(\"univer\"))&~(X['Nova Ocupação Actual_Descrição']==\"Universidade Eduardo Mondlane\")&(X['Nova Ocupação Actual']==\"trabalhadora e estudante\"))\n",
    "print('pedagógica maputo')\n",
    "print((cond1pe & cond2pe).sum())\n",
    "\n",
    "cond1po=((X['Ocupação Actual_Descrição'].str.contains(\"polité\"))|(X['Ocupação Actual_Descrição'].str.contains(\"polite\")))\n",
    "cond2po=((X['Ocupação Actual_Descrição'].str.contains(\"univer\"))&~(X['Nova Ocupação Actual_Descrição']==\"Universidade Eduardo Mondlane\")&(X['Nova Ocupação Actual']==\"trabalhadora e estudante\"))\n",
    "print('politécnica')\n",
    "print((cond1po & cond2po).sum())\n",
    "\n",
    "cond1ch=((X['Ocupação Actual_Descrição'].str.contains(\"chipa\")))#|(X['Ocupação Actual_Descrição'].str.contains(\"polite\")))\n",
    "cond2ch=(~(X['Nova Ocupação Actual_Descrição']==\"Universidade Eduardo Mondlane\")&(X['Nova Ocupação Actual']==\"trabalhadora e estudante\"))\n",
    "print('alberto chipande')\n",
    "print((cond1ch & cond2ch).sum())\n"
   ]
  },
  {
   "cell_type": "markdown",
   "metadata": {},
   "source": [
    "#### poucas responderam a universidade onde estudam. Vamos apenas indicar onde trabalham"
   ]
  },
  {
   "cell_type": "code",
   "execution_count": null,
   "metadata": {},
   "outputs": [],
   "source": [
    "# Vamos agrupar as que têm mais de 20 ocorrências num grupo - rovuna, católica, lurio, pedagógica maputo\n",
    "\n",
    "i=0;\n",
    "#X['Nova Ocupação Actual_Descrição']=X['Ocupação Actual_Descrição']\n",
    "\n",
    "for k in X['Ocupação Actual_Descrição']:\n",
    "\n",
    "    list10=[\"técnica\" in k];\n",
    "    list11=[\"tecnica\" in k];    \n",
    "    list12=[\"profess\" in k];\n",
    "    list13=[\"esco\" in k];\n",
    "    list14=[\"univer\" in k];\n",
    "    list15=[\"medic\" in k];\n",
    "    list16=[\"médic\" in k];\n",
    "    list17=[\"advog\" in k];\n",
    "    list18=[\"secretár\" in k];\n",
    "    list19=[\"secretar\" in k];\n",
    "    list20=[\"administrat\" in k];\n",
    "    list21=[\"assist\" in k];\n",
    "    list22=[\"gestor\" in k];\n",
    "    list23=[\"vended\" in k];\n",
    "    list24=[\"venda\" in k];\n",
    "    \n",
    "    if X['Nova Ocupação Actual'][i]==\"trabalhadora e estudante\":\n",
    "        if all(list10) or all(list11):\n",
    "            X['Nova Ocupação Actual_Descrição'][i]=\"Técnica\"\n",
    "        elif all(list12) or all(list13) or all(list14):\n",
    "            X['Nova Ocupação Actual_Descrição'][i]=\"Professora\"\n",
    "        elif all(list15) or all(list16) or all(list17):\n",
    "            X['Nova Ocupação Actual_Descrição'][i]=\"Médica/Advogada\"\n",
    "        elif all(list18) or all(list19) or all(list20) or all(list21):\n",
    "            X['Nova Ocupação Actual_Descrição'][i]=\"Secretária/Assistente/Administrativa\"\n",
    "        elif all(list22):\n",
    "            X['Nova Ocupação Actual_Descrição'][i]=\"Gestora\"\n",
    "        elif all(list23) or all(list24):\n",
    "            X['Nova Ocupação Actual_Descrição'][i]=\"Vendedora\"\n",
    "        else:\n",
    "            X['Nova Ocupação Actual_Descrição'][i]=\"Outro Trabalho\"\n",
    "\n",
    "    i=i+1;"
   ]
  },
  {
   "cell_type": "code",
   "execution_count": null,
   "metadata": {},
   "outputs": [],
   "source": [
    "(X.loc[X['Nova Ocupação Actual']==\"trabalhadora e estudante\",['Nova Ocupação Actual_Descrição']]['Nova Ocupação Actual_Descrição']).value_counts()"
   ]
  },
  {
   "cell_type": "code",
   "execution_count": null,
   "metadata": {},
   "outputs": [],
   "source": []
  },
  {
   "cell_type": "code",
   "execution_count": null,
   "metadata": {},
   "outputs": [],
   "source": [
    "eliminar=['Gestora','Médica/Advogada','Vendedora','Técnica']\n",
    "X['Nova Ocupação Actual_Descrição']=X['Nova Ocupação Actual_Descrição'].replace(eliminar,'Outro Trabalho')"
   ]
  },
  {
   "cell_type": "code",
   "execution_count": null,
   "metadata": {},
   "outputs": [],
   "source": [
    "plt.figure(figsize=(10,8))\n",
    "ax=(X.loc[X['Nova Ocupação Actual']==\"trabalhadora e estudante\",['Nova Ocupação Actual_Descrição', 'Nova Ocupação Actual']]).groupby('Nova Ocupação Actual_Descrição')['Nova Ocupação Actual'].count().sort_values(ascending=False).plot.pie(autopct='%.1f%%', fontsize=12)\n",
    "ax.yaxis.set_visible(False)\n",
    "plt.savefig('trabalha e estuda.png', dpi=300)"
   ]
  },
  {
   "cell_type": "code",
   "execution_count": null,
   "metadata": {},
   "outputs": [],
   "source": []
  },
  {
   "cell_type": "code",
   "execution_count": null,
   "metadata": {},
   "outputs": [],
   "source": [
    "X.describe()"
   ]
  },
  {
   "cell_type": "code",
   "execution_count": null,
   "metadata": {},
   "outputs": [],
   "source": []
  },
  {
   "cell_type": "markdown",
   "metadata": {},
   "source": [
    "#### Trabalho de sonho"
   ]
  },
  {
   "cell_type": "code",
   "execution_count": null,
   "metadata": {},
   "outputs": [],
   "source": [
    "X.columns"
   ]
  },
  {
   "cell_type": "code",
   "execution_count": null,
   "metadata": {},
   "outputs": [],
   "source": []
  },
  {
   "cell_type": "code",
   "execution_count": null,
   "metadata": {},
   "outputs": [],
   "source": [
    "#ocup_split=X['Trabalho de sonho'].str.replace(rgx,' ')"
   ]
  },
  {
   "cell_type": "code",
   "execution_count": null,
   "metadata": {},
   "outputs": [],
   "source": [
    "teste= [\" meu \",\"de \",\" é \",\" pois \",\" das \",\" eu \",\" trabalhar \", \" numa \",\"gostaria \", \" porque \", \" uma \",\" de \", \" e \", \" que \", \" a \", \" o \", \" na \", \" com \", \" um \", \" é \", \" as \", \" os \", \" em \", \" para \", \" da \", \" do \", \" no \", \" ou \"]\n",
    "rgx= '|'.join(teste)\n",
    "\n",
    "ocup_split=X['Trabalho de sonho'].str.replace(rgx,' ')\n",
    "ocup_split=ocup_split.str.split(' ', expand=True)\n",
    "ocup_split\n",
    "novo=ocup_split.stack()\n",
    "novo.value_counts()\n",
    "#novo.str.contains(\"studante|rabalhadora\").sum()\n",
    "#ocup_split"
   ]
  },
  {
   "cell_type": "code",
   "execution_count": null,
   "metadata": {},
   "outputs": [],
   "source": [
    "cond7=((X['Trabalho de sonho'].str.contains(\"minha\"))&(X['Trabalho de sonho'].str.contains(\"empresa\")))\n",
    "cond8=((X['Trabalho de sonho'].str.contains(\"meu\"))&(X['Trabalho de sonho'].str.contains(\"neg\")))\n",
    "cond6=((X['Trabalho de sonho'].str.contains(\"próp\"))&(X['Trabalho de sonho'].str.contains(\"emp\")))\n",
    "cond5=((X['Trabalho de sonho'].str.contains(\"próp\"))&(X['Trabalho de sonho'].str.contains(\"proj\")))\n",
    "print('meu negócio')\n",
    "print((cond7 | cond8 | cond6| cond5).sum())\n",
    "\n",
    "cond9=((X['Trabalho de sonho'].str.contains(\"ong\"))|(X['Trabalho de sonho'].str.contains(\"organização não\"))|(X['Trabalho de sonho'].str.contains(\"save the\"))|(X['Trabalho de sonho'].str.contains(\"unicef\"))|(X['Trabalho de sonho'].str.contains(\"onu\"))|(X['Trabalho de sonho'].str.contains(\"direitos\"))|(X['Trabalho de sonho'].str.contains(\"humanitár\"))|(X['Trabalho de sonho'].str.contains(\"nações\")))\n",
    "#cond10=((X['Trabalho de sonho'].str.contains(\"meu\"))&(X['Trabalho de sonho'].str.contains(\"neg\")))\n",
    "print('ONG')\n",
    "print((cond9).sum())\n",
    "\n",
    "cond10=((X['Trabalho de sonho'].str.contains(\"banco\"))|(X['Trabalho de sonho'].str.contains(\"bancá\")))\n",
    "#cond10=((X['Trabalho de sonho'].str.contains(\"meu\"))&(X['Trabalho de sonho'].str.contains(\"neg\")))\n",
    "print('Trabalhar num banco')\n",
    "print((cond10).sum())\n",
    "\n",
    "cond11=((X['Trabalho de sonho'].str.contains(\"escola\")))#|(X['Trabalho de sonho'].str.contains(\"profes\")))\n",
    "#cond10=((X['Trabalho de sonho'].str.contains(\"meu\"))&(X['Trabalho de sonho'].str.contains(\"neg\")))\n",
    "print('Numa escola')\n",
    "print((cond11).sum())\n",
    "\n",
    "cond12=((X['Trabalho de sonho'].str.contains(\"saúde\"))|(X['Trabalho de sonho'].str.contains(\"hospita\"))|(X['Trabalho de sonho'].str.contains(\"médic\")))\n",
    "#cond10=((X['Trabalho de sonho'].str.contains(\"meu\"))&(X['Trabalho de sonho'].str.contains(\"neg\")))\n",
    "print('Saúde/Hospitalar')\n",
    "print((cond12).sum())\n",
    "\n",
    "cond13=((X['Trabalho de sonho'].str.contains(\"ministé\")))#|(X['Trabalho de sonho'].str.contains(\"organização não\")))\n",
    "#cond10=((X['Trabalho de sonho'].str.contains(\"meu\"))&(X['Trabalho de sonho'].str.contains(\"neg\")))\n",
    "print('ministério')\n",
    "print((cond13).sum())"
   ]
  },
  {
   "cell_type": "code",
   "execution_count": null,
   "metadata": {},
   "outputs": [],
   "source": []
  },
  {
   "cell_type": "code",
   "execution_count": null,
   "metadata": {},
   "outputs": [],
   "source": [
    "i=0;\n",
    "X['Nova Trabalho de sonho']=X['Trabalho de sonho']\n",
    "\n",
    "for k in X['Trabalho de sonho']:\n",
    "    list0=[\"minha\" in k,\"empresa\" in k];\n",
    "    list1=[\"meu\" in k,\"negóc\" in k];\n",
    "    list2=[\"próp\" in k,\"emp\" in k];\n",
    "    \n",
    "    list3=[\"ong\" in k];\n",
    "    list4=[\"organiza\" in k, \"governam\" in k];\n",
    "    list5=[\"save the\" in k];\n",
    "    list6=[\"unicef\" in k];\n",
    "    list7=[\"onu\" in k];\n",
    "    list8=[\"direitos\" in k];\n",
    "    list9=[\"humanitár\" in k];\n",
    "    list10=[\"nações\" in k];\n",
    "    \n",
    "    list11=[\"banco\" in k];\n",
    "    list12=[\"bancá\" in k];\n",
    "    \n",
    "    list13=[\"escola\" in k];\n",
    "    \n",
    "    list14=[\"saúde\" in k];\n",
    "    list15=[\"hospita\" in k];\n",
    "    list16=[\"médic\" in k];\n",
    "    \n",
    "    list17=[\"ministé\" in k];\n",
    "    \n",
    "    list18=[\"empresa\" in k];\n",
    "    \n",
    "\n",
    "    if all(list0) or all(list1) or all(list2):\n",
    "        X['Nova Trabalho de sonho'][i]=\"Ter próprio negócio\"\n",
    "    elif all(list3) or all(list4) or all(list5) or all(list6) or all(list7) or all(list8) or all(list9) or all(list10):\n",
    "        X['Nova Trabalho de sonho'][i]=\"Ter trabalho humanitário (ONG)\"\n",
    "    elif all(list11) or all(list12):\n",
    "        X['Nova Trabalho de sonho'][i]=\"Trabalhar num banco\"\n",
    "    elif all(list13):\n",
    "        X['Nova Trabalho de sonho'][i]=\"Trabalhar numa escola\"\n",
    "    elif all(list14) or all(list15) or all(list16):\n",
    "        X['Nova Trabalho de sonho'][i]=\"Trabalhar área saúde\"\n",
    "    elif all(list17):\n",
    "        X['Nova Trabalho de sonho'][i]=\"Trabalhar num ministério\"\n",
    "    elif all(list18):\n",
    "        X['Nova Trabalho de sonho'][i]=\"Trabalhar numa empresa\"\n",
    "    else:\n",
    "        X['Nova Trabalho de sonho'][i]=\"Outro sonho\"\n",
    "\n",
    "    i=i+1;"
   ]
  },
  {
   "cell_type": "code",
   "execution_count": null,
   "metadata": {},
   "outputs": [],
   "source": []
  },
  {
   "cell_type": "code",
   "execution_count": null,
   "metadata": {},
   "outputs": [],
   "source": [
    "X['Nova Trabalho de sonho'].value_counts()"
   ]
  },
  {
   "cell_type": "code",
   "execution_count": null,
   "metadata": {},
   "outputs": [],
   "source": [
    "plt.figure(figsize=(10,8))\n",
    "ax=X['Nova Trabalho de sonho'].value_counts().plot(kind='pie', autopct='%.1f%%', fontsize=14);\n",
    "ax.yaxis.set_visible(False)\n",
    "plt.savefig('Trabalho sonho.png', dpi=300)"
   ]
  },
  {
   "cell_type": "code",
   "execution_count": null,
   "metadata": {},
   "outputs": [],
   "source": [
    "plt.figure(figsize=(10,8))\n",
    "ax=(X.loc[(~(X['Nova Trabalho de sonho']==\"Outro sonho\")),['Nova Trabalho de sonho']])['Nova Trabalho de sonho'].value_counts().plot.pie(autopct='%.1f%%', fontsize=12)\n",
    "ax.yaxis.set_visible(False)\n",
    "# save the figure\n",
    "plt.savefig('Trabalho sonho individuais.png', dpi=300)"
   ]
  },
  {
   "cell_type": "code",
   "execution_count": null,
   "metadata": {},
   "outputs": [],
   "source": [
    "eliminar=['Trabalhar numa escola','Trabalhar num ministério', 'Trabalhar área saúde', 'Trabalhar num banco']\n",
    "X['Nova Trabalho de sonho']=X['Nova Trabalho de sonho'].replace(eliminar,'Outro sonho')"
   ]
  },
  {
   "cell_type": "code",
   "execution_count": null,
   "metadata": {},
   "outputs": [],
   "source": [
    "X['Nova Trabalho de sonho'].value_counts()"
   ]
  },
  {
   "cell_type": "code",
   "execution_count": null,
   "metadata": {},
   "outputs": [],
   "source": [
    "plt.figure(figsize=(10,8))\n",
    "ax=X['Nova Trabalho de sonho'].value_counts().plot(kind='pie', autopct='%.1f%%', fontsize=14);\n",
    "ax.yaxis.set_visible(False)\n",
    "plt.savefig('Trabalho sonho_group.png', dpi=300)"
   ]
  },
  {
   "cell_type": "code",
   "execution_count": null,
   "metadata": {},
   "outputs": [],
   "source": [
    "condxx=((X['Trabalho de sonho'].str.contains(\"\")))#&(X['Trabalho de sonho'].str.contains(\"trab\")))\n",
    "X.loc[condxx,['Trabalho de sonho']]"
   ]
  },
  {
   "cell_type": "markdown",
   "metadata": {},
   "source": [
    "#### Próximos Passos"
   ]
  },
  {
   "cell_type": "code",
   "execution_count": null,
   "metadata": {},
   "outputs": [],
   "source": [
    "ocup_split=X['Próximos Passos'].str.replace(rgx,' ')\n",
    "ocup_split=ocup_split.str.split(' ', expand=True)\n",
    "ocup_split\n",
    "novo=ocup_split.stack()\n",
    "novo.value_counts()\n",
    "#novo.str.contains(\"studante|rabalhadora\").sum()\n",
    "#ocup_split"
   ]
  },
  {
   "cell_type": "code",
   "execution_count": null,
   "metadata": {},
   "outputs": [],
   "source": [
    "i=0;\n",
    "X['Nova Próximos Passos']=X['Próximos Passos']\n",
    "\n",
    "for k in X['Próximos Passos']:\n",
    "    list0=[\"minha\" in k,\"empresa\" in k];\n",
    "    list1=[\"meu\" in k,\"negóc\" in k];\n",
    "    list2=[\"próp\" in k,\"emp\" in k];\n",
    "    list21=[\"meu\" in k,\"negoc\" in k];\n",
    "    \n",
    "    list3=[\"ong\" in k];\n",
    "    list4=[\"organiza\" in k, \"governam\" in k];\n",
    "    list5=[\"save the\" in k];\n",
    "    list6=[\"unicef\" in k];\n",
    "    list7=[\"onu\" in k];\n",
    "    list8=[\"direitos\" in k];\n",
    "    list9=[\"humanitár\" in k];\n",
    "    list10=[\"nações\" in k];\n",
    "    \n",
    "    list11=[\"mestrado\" in k];\n",
    "    list12=[\"curso\" in k];\n",
    "    list13=[\"estud\" in k];\n",
    "    list133=[\"licen\" in k];\n",
    "    \n",
    "    list14=[\"trabalhar\" in k, \"numa\" in k, \"empresa\" in k];\n",
    "    \n",
    "\n",
    "    if all(list0) or all(list1) or all(list2) or all(list21):\n",
    "        X['Nova Próximos Passos'][i]=\"Ter próprio negócio\"\n",
    "    elif all(list3) or all(list4) or all(list5) or all(list6) or all(list7) or all(list8) or all(list9) or all(list10):\n",
    "        X['Nova Próximos Passos'][i]=\"Ter trabalho humanitário (ONG)\"\n",
    "    elif all(list11) or all(list12) or all(list13) or all(list133):\n",
    "        X['Nova Próximos Passos'][i]=\"Estudar\"\n",
    "    elif all(list14):\n",
    "        X['Nova Próximos Passos'][i]=\"Trabalhar numa empresa\"\n",
    "    else:\n",
    "        X['Nova Próximos Passos'][i]=\"Outros\"\n",
    "    i+=1"
   ]
  },
  {
   "cell_type": "code",
   "execution_count": null,
   "metadata": {},
   "outputs": [],
   "source": [
    "X['Nova Próximos Passos'].value_counts()"
   ]
  },
  {
   "cell_type": "code",
   "execution_count": null,
   "metadata": {},
   "outputs": [],
   "source": [
    "figsize=(10,8)\n",
    "X['Nova Próximos Passos'].value_counts().plot(kind='bar', fontsize=10);\n",
    "plt.savefig('próximos passos.png', dpi=300)"
   ]
  },
  {
   "cell_type": "code",
   "execution_count": null,
   "metadata": {},
   "outputs": [],
   "source": [
    "#vamos eliminar os outros\n",
    "elimina=X[(X['Nova Próximos Passos']=='Outros')].index"
   ]
  },
  {
   "cell_type": "code",
   "execution_count": null,
   "metadata": {},
   "outputs": [],
   "source": [
    "elimina"
   ]
  },
  {
   "cell_type": "code",
   "execution_count": null,
   "metadata": {},
   "outputs": [],
   "source": [
    "X.drop(elimina,inplace=True)\n",
    "X.reset_index(drop=True, inplace=True)"
   ]
  },
  {
   "cell_type": "code",
   "execution_count": null,
   "metadata": {},
   "outputs": [],
   "source": [
    "plt.figure(figsize=(10,8))\n",
    "ax=X['Nova Próximos Passos'].value_counts().plot(kind='pie', autopct='%.1f%%', fontsize=14);\n",
    "ax.yaxis.set_visible(False)\n",
    "plt.savefig('próximos passos_group.png', dpi=300)\n"
   ]
  },
  {
   "cell_type": "code",
   "execution_count": null,
   "metadata": {},
   "outputs": [],
   "source": [
    "X.describe()"
   ]
  },
  {
   "cell_type": "markdown",
   "metadata": {},
   "source": [
    "#### Apenas uma coisa para fazer durante o resto da vida"
   ]
  },
  {
   "cell_type": "code",
   "execution_count": null,
   "metadata": {},
   "outputs": [],
   "source": [
    "ocup_split=X['Apenas uma coisa para fazer durante o resto da vida'].str.replace(rgx,' ')\n",
    "ocup_split=ocup_split.str.split(' ', expand=True)\n",
    "ocup_split\n",
    "novo=ocup_split.stack()\n",
    "novo.value_counts()\n",
    "#novo.str.contains(\"studante|rabalhadora\").sum()\n",
    "#ocup_split"
   ]
  },
  {
   "cell_type": "code",
   "execution_count": null,
   "metadata": {},
   "outputs": [],
   "source": [
    "cond11=((X['Apenas uma coisa para fazer durante o resto da vida'].str.contains(\"ajudar\"))|(X['Apenas uma coisa para fazer durante o resto da vida'].str.contains(\"comunid\"))|(X['Apenas uma coisa para fazer durante o resto da vida'].str.contains(\"crianç\"))|(X['Apenas uma coisa para fazer durante o resto da vida'].str.contains(\"idos\"))|(X['Apenas uma coisa para fazer durante o resto da vida'].str.contains(\"ong\"))|(X['Apenas uma coisa para fazer durante o resto da vida'].str.contains(\"humani\"))|(X['Apenas uma coisa para fazer durante o resto da vida'].str.contains(\"cuida\")))#|(X['Trabalho de sonho'].str.contains(\"profes\")))\n",
    "#cond10=((X['Trabalho de sonho'].str.contains(\"meu\"))&(X['Trabalho de sonho'].str.contains(\"neg\")))\n",
    "print('ajudar')\n",
    "print((cond11).sum())\n",
    "\n",
    "cond11=((X['Apenas uma coisa para fazer durante o resto da vida'].str.contains(\"feliz\")))#|(X['Trabalho de sonho'].str.contains(\"profes\")))\n",
    "#cond10=((X['Trabalho de sonho'].str.contains(\"meu\"))&(X['Trabalho de sonho'].str.contains(\"neg\")))\n",
    "print('feli')\n",
    "print((cond11).sum())\n",
    "\n",
    "cond11=((X['Apenas uma coisa para fazer durante o resto da vida'].str.contains(\"empresá\"))|(X['Apenas uma coisa para fazer durante o resto da vida'].str.contains(\"empreen\")))#|(X['Trabalho de sonho'].str.contains(\"profes\")))\n",
    "#cond10=((X['Trabalho de sonho'].str.contains(\"meu\"))&(X['Trabalho de sonho'].str.contains(\"neg\")))\n",
    "print('empresária/empreendedora')\n",
    "print((cond11).sum())\n"
   ]
  },
  {
   "cell_type": "code",
   "execution_count": null,
   "metadata": {},
   "outputs": [],
   "source": [
    "i=0;\n",
    "X['Nova Apenas uma coisa para fazer durante o resto da vida']=X['Apenas uma coisa para fazer durante o resto da vida']\n",
    "\n",
    "for k in X['Apenas uma coisa para fazer durante o resto da vida']:\n",
    "    list0=[\"ajudar\" in k];\n",
    "    list1=[\"cuidar\" in k];\n",
    "    list2=[\"ong\" in k];\n",
    "    list3=[\"crianç\" in k];\n",
    "    list4=[\"comunid\" in k];\n",
    "    list5=[\"idosos\" in k];\n",
    "    list6=[\"humanit\" in k];\n",
    "    list7=[\"nações\" in k];\n",
    "    list8=[\"save the\" in k];\n",
    "    list9=[\"unicef\" in k];\n",
    "    list10=[\"organiza\" in k, \"governam\" in k];\n",
    "    \n",
    "    list11=[\"feliz\" in k];\n",
    "    \n",
    "    list12=[\"empresá\" in k];\n",
    "    list13=[\"empreen\" in k];\n",
    "    \n",
    "\n",
    "    if all(list0) or all(list1) or all(list2) or all(list3) or all(list4) or all(list5) or all(list6) or all(list7) or all(list8) or all(list9) or all(list10):\n",
    "        X['Nova Apenas uma coisa para fazer durante o resto da vida'][i]=\"Ajudar\"\n",
    "    elif all(list11):\n",
    "        X['Nova Apenas uma coisa para fazer durante o resto da vida'][i]=\"Ser feliz\"\n",
    "    elif all(list12) or all(list13):\n",
    "        X['Nova Apenas uma coisa para fazer durante o resto da vida'][i]=\"Ser empresária/empreendedora\"\n",
    "    else:\n",
    "        X['Nova Apenas uma coisa para fazer durante o resto da vida'][i]=\"Outra\"\n",
    "    i+=1"
   ]
  },
  {
   "cell_type": "code",
   "execution_count": null,
   "metadata": {},
   "outputs": [],
   "source": [
    "X['Nova Apenas uma coisa para fazer durante o resto da vida'].value_counts()"
   ]
  },
  {
   "cell_type": "code",
   "execution_count": null,
   "metadata": {},
   "outputs": [],
   "source": [
    "plt.figure(figsize=(10,8))\n",
    "ax=X['Nova Apenas uma coisa para fazer durante o resto da vida'].value_counts().plot(kind='pie', autopct='%.1f%%', fontsize=14);\n",
    "ax.yaxis.set_visible(False)\n",
    "plt.savefig('Apenas uma coisa.png', dpi=300)\n"
   ]
  },
  {
   "cell_type": "markdown",
   "metadata": {},
   "source": [
    "#### Maior ambição"
   ]
  },
  {
   "cell_type": "code",
   "execution_count": null,
   "metadata": {},
   "outputs": [],
   "source": [
    "ocup_split=X['Maior ambição'].str.replace(rgx,' ')\n",
    "ocup_split=ocup_split.str.split(' ', expand=True)\n",
    "ocup_split\n",
    "novo=ocup_split.stack()\n",
    "novo.value_counts()\n",
    "#novo.str.contains(\"studante|rabalhadora\").sum()\n",
    "#ocup_split"
   ]
  },
  {
   "cell_type": "code",
   "execution_count": null,
   "metadata": {},
   "outputs": [],
   "source": [
    "i=0;\n",
    "X['Nova Maior ambição']=X['Maior ambição']\n",
    "\n",
    "for k in X['Maior ambição']:\n",
    "    list0=[\"minha\" in k,\"empresa\" in k];\n",
    "    list1=[\"meu\" in k,\"negóc\" in k];\n",
    "    list2=[\"próp\" in k,\"emp\" in k];\n",
    "    list3=[\"ter\" in k,\"empres\" in k];\n",
    "    \n",
    "    list4=[\"ong\" in k];\n",
    "    list5=[\"organiza\" in k, \"governam\" in k];\n",
    "    list6=[\"save the\" in k];\n",
    "    list7=[\"unicef\" in k];\n",
    "    list8=[\"onu\" in k];\n",
    "    list9=[\"direitos\" in k];\n",
    "    list10=[\"humanitár\" in k];\n",
    "    list11=[\"nações\" in k];\n",
    "    \n",
    "    list14=[\"mestrado\" in k];\n",
    "    list12=[\"curso\" in k];\n",
    "    list13=[\"estud\" in k];\n",
    "    \n",
    "    list15=[\"ajudar\" in k];\n",
    "    \n",
    "    list16=[\"feliz\" in k];\n",
    "    \n",
    "\n",
    "    if all(list0) or all(list1) or all(list2) or all(list3):\n",
    "        X['Nova Maior ambição'][i]=\"Ter próprio negócio\"\n",
    "    elif all(list11) or all(list4) or all(list5) or all(list6) or all(list7) or all(list8) or all(list9) or all(list10):\n",
    "        X['Nova Maior ambição'][i]=\"Ter trabalho humanitário (ONG)\"\n",
    "    elif all(list14) or all(list12) or all(list13):\n",
    "        X['Nova Maior ambição'][i]=\"Estudar\"\n",
    "    elif all(list15):\n",
    "        X['Nova Maior ambição'][i]=\"Ajudar\"\n",
    "    elif all(list16):\n",
    "        X['Nova Maior ambição'][i]=\"Feliz\"\n",
    "    else:\n",
    "        X['Nova Maior ambição'][i]=\"Outros\"\n",
    "    i+=1"
   ]
  },
  {
   "cell_type": "code",
   "execution_count": null,
   "metadata": {},
   "outputs": [],
   "source": [
    "X['Nova Maior ambição'].value_counts()"
   ]
  },
  {
   "cell_type": "code",
   "execution_count": null,
   "metadata": {},
   "outputs": [],
   "source": [
    "X['Nova Maior ambição'].value_counts().plot(kind='bar', fontsize=14);"
   ]
  },
  {
   "cell_type": "code",
   "execution_count": null,
   "metadata": {},
   "outputs": [],
   "source": [
    "X.describe()"
   ]
  },
  {
   "cell_type": "code",
   "execution_count": null,
   "metadata": {},
   "outputs": [],
   "source": []
  },
  {
   "cell_type": "markdown",
   "metadata": {},
   "source": [
    "#### Clustering"
   ]
  },
  {
   "cell_type": "code",
   "execution_count": null,
   "metadata": {},
   "outputs": [],
   "source": [
    "Z=X.copy()"
   ]
  },
  {
   "cell_type": "code",
   "execution_count": null,
   "metadata": {},
   "outputs": [],
   "source": [
    "Z.columns"
   ]
  },
  {
   "cell_type": "code",
   "execution_count": null,
   "metadata": {},
   "outputs": [],
   "source": [
    "Z.drop(columns=['Razão da inscrição e expectativas',\n",
    "                'Ocupação Actual',\n",
    "                'Ocupação Actual_Descrição',\n",
    "                'Próximos Passos',\n",
    "                'Trabalho de sonho',\n",
    "                'Maior ambição',\n",
    "                'Apenas uma coisa para fazer durante o resto da vida'], inplace=True)"
   ]
  },
  {
   "cell_type": "code",
   "execution_count": null,
   "metadata": {},
   "outputs": [],
   "source": [
    "Z['Tratamento de dados'].value_counts()"
   ]
  },
  {
   "cell_type": "code",
   "execution_count": null,
   "metadata": {},
   "outputs": [],
   "source": [
    "Z.drop(columns=['Tratamento de dados'], inplace=True)"
   ]
  },
  {
   "cell_type": "code",
   "execution_count": null,
   "metadata": {},
   "outputs": [],
   "source": [
    "Z.drop(columns=['Nova Maior ambição'], inplace=True)"
   ]
  },
  {
   "cell_type": "code",
   "execution_count": null,
   "metadata": {},
   "outputs": [],
   "source": [
    "Z.describe()"
   ]
  },
  {
   "cell_type": "code",
   "execution_count": null,
   "metadata": {},
   "outputs": [],
   "source": [
    "# Elbow curve to find optimal K\n",
    "cost = []\n",
    "K = range(1,20)\n",
    "for num_clusters in list(K):\n",
    "    kmode = KModes(n_clusters=num_clusters, init = \"random\", n_init = 30, verbose=1)\n",
    "    kmode.fit_predict(Z)\n",
    "    cost.append(kmode.cost_)\n",
    "    \n",
    "plt.plot(K, cost, 'bx-')\n",
    "plt.xlabel('No. of clusters')\n",
    "plt.ylabel('Cost')\n",
    "plt.title('Elbow Method For Optimal k')\n",
    "plt.show()"
   ]
  },
  {
   "cell_type": "code",
   "execution_count": null,
   "metadata": {},
   "outputs": [],
   "source": [
    "km = KModes(n_clusters=11, init='Huang', n_init=100, verbose=1)\n",
    "\n",
    "clusters = km.fit_predict(Z)\n",
    "\n",
    "# Print the cluster centroids\n",
    "print(km.cluster_centroids_)"
   ]
  },
  {
   "cell_type": "code",
   "execution_count": null,
   "metadata": {},
   "outputs": [],
   "source": [
    "# Add the cluster to the dataframe\n",
    "Z['Cluster Labels'] = km.labels_\n",
    "Z['Cluster Labels'].value_counts()"
   ]
  },
  {
   "cell_type": "code",
   "execution_count": null,
   "metadata": {},
   "outputs": [],
   "source": [
    "km.cluster_centroids_[0]"
   ]
  },
  {
   "cell_type": "code",
   "execution_count": null,
   "metadata": {},
   "outputs": [],
   "source": [
    "Z.head(2)"
   ]
  },
  {
   "cell_type": "markdown",
   "metadata": {},
   "source": [
    "### OHE"
   ]
  },
  {
   "cell_type": "code",
   "execution_count": null,
   "metadata": {},
   "outputs": [],
   "source": [
    "#Y=X.copy()"
   ]
  },
  {
   "cell_type": "code",
   "execution_count": null,
   "metadata": {},
   "outputs": [],
   "source": [
    "#Y.drop(columns=['Razão da inscrição e expectativas',\n",
    " #               'Ocupação Actual',\n",
    "  #              'Ocupação Actual_Descrição',\n",
    "   #             'Próximos Passos',\n",
    "    #            'Trabalho de sonho',\n",
    "     #           'Maior ambição',\n",
    "      #          'Apenas uma coisa para fazer durante o resto da vida'], inplace=True)"
   ]
  },
  {
   "cell_type": "code",
   "execution_count": null,
   "metadata": {},
   "outputs": [],
   "source": [
    "#Y.drop(columns=['Tratamento de dados'], inplace=True)"
   ]
  },
  {
   "cell_type": "code",
   "execution_count": null,
   "metadata": {},
   "outputs": [],
   "source": [
    "#Y.drop(columns=['Nova Maior ambição'], inplace=True)"
   ]
  },
  {
   "cell_type": "code",
   "execution_count": null,
   "metadata": {},
   "outputs": [],
   "source": [
    "#Y.describe()"
   ]
  },
  {
   "cell_type": "code",
   "execution_count": null,
   "metadata": {},
   "outputs": [],
   "source": [
    "#Y=pd.get_dummies(Y, prefix='Já conhecia a GirlMove', columns=['Já conhecia a GirlMOVE Academy'])"
   ]
  },
  {
   "cell_type": "code",
   "execution_count": null,
   "metadata": {},
   "outputs": [],
   "source": [
    "#Y=pd.get_dummies(Y, prefix='Ocupação', columns=['Nova Ocupação Actual'])"
   ]
  },
  {
   "cell_type": "code",
   "execution_count": null,
   "metadata": {},
   "outputs": [],
   "source": [
    "#Y=pd.get_dummies(Y, prefix='Ocupação Descrição', columns=['Nova Ocupação Actual_Descrição'])"
   ]
  },
  {
   "cell_type": "code",
   "execution_count": null,
   "metadata": {},
   "outputs": [],
   "source": [
    "#Y=pd.get_dummies(Y, prefix='Trabalho sonho', columns=['Nova Trabalho de sonho'])"
   ]
  },
  {
   "cell_type": "code",
   "execution_count": null,
   "metadata": {},
   "outputs": [],
   "source": [
    "#Y=pd.get_dummies(Y, prefix='Próximos Passos', columns=['Nova Próximos Passos'])"
   ]
  },
  {
   "cell_type": "code",
   "execution_count": null,
   "metadata": {},
   "outputs": [],
   "source": [
    "#Y.head()"
   ]
  },
  {
   "cell_type": "code",
   "execution_count": null,
   "metadata": {},
   "outputs": [],
   "source": [
    "#Y.columns[1]"
   ]
  },
  {
   "cell_type": "code",
   "execution_count": null,
   "metadata": {},
   "outputs": [],
   "source": [
    "#i=1\n",
    "#j=0\n",
    "#Y['cluster']=''\n",
    "#for i in range (0,len(Y),1):\n",
    " #   for j in range (0,(Y.shape[1]-1),1):\n",
    "  #      if Y.iloc[i,j]==1:\n",
    "   #         Y['cluster'][i]=Y['cluster'][i] + ' , ' + (Y.columns[j])\n",
    "    #    j+=1\n",
    "    #i+=1\n",
    "    "
   ]
  },
  {
   "cell_type": "code",
   "execution_count": null,
   "metadata": {},
   "outputs": [],
   "source": [
    "#Y['cluster'].value_counts()"
   ]
  },
  {
   "cell_type": "markdown",
   "metadata": {},
   "source": [
    "## Ficheiro \"Feedback Rise\" (rise)"
   ]
  },
  {
   "cell_type": "code",
   "execution_count": null,
   "metadata": {},
   "outputs": [],
   "source": [
    "rise.shape"
   ]
  },
  {
   "cell_type": "code",
   "execution_count": null,
   "metadata": {},
   "outputs": [],
   "source": [
    "rise.dtypes"
   ]
  },
  {
   "cell_type": "code",
   "execution_count": null,
   "metadata": {},
   "outputs": [],
   "source": [
    "rise.nunique().sort_values(ascending=False)"
   ]
  },
  {
   "cell_type": "code",
   "execution_count": null,
   "metadata": {},
   "outputs": [],
   "source": [
    "rise.isnull().sum()"
   ]
  },
  {
   "cell_type": "code",
   "execution_count": null,
   "metadata": {},
   "outputs": [],
   "source": [
    "rise.head(2)"
   ]
  },
  {
   "cell_type": "code",
   "execution_count": null,
   "metadata": {},
   "outputs": [],
   "source": [
    "rise.describe()"
   ]
  },
  {
   "cell_type": "code",
   "execution_count": null,
   "metadata": {},
   "outputs": [],
   "source": [
    "plt.figure(figsize=(16,14))\n",
    "i=1\n",
    "for k in rise.select_dtypes(exclude=object).columns:\n",
    "    mean=rise[k].mean()\n",
    "    std=rise[k].std()\n",
    "    plt.subplot(2, 3, i)\n",
    "    #plt.title(k)\n",
    "    rise[k].value_counts().plot(kind='bar')\n",
    "    plt.xlabel(k)\n",
    "    i+=1"
   ]
  },
  {
   "cell_type": "code",
   "execution_count": null,
   "metadata": {},
   "outputs": [],
   "source": [
    "print(f'média avaliação Plataforma =' ,rise['Como avalias a plataforma?'].mean())\n",
    "print(f'média avaliação \"Celebrar\" =' ,rise['O capítulo \"Celebrar\" fez-te refletir e foi útil?'].mean())\n",
    "print(f'média avaliação \"Ikigai\" =' ,rise['O capítulo \"Ikigai\" transmitiu-te novas aprendizagens?'].mean())\n",
    "print(f'média avaliação \"Recursos extra\" =' ,rise['Os recursos extra foram úteis? '].mean())"
   ]
  },
  {
   "cell_type": "code",
   "execution_count": null,
   "metadata": {},
   "outputs": [],
   "source": [
    "# turn all strings lower\n",
    "rise['Deixa-nos um comentário sobre o módulo Rise.']=rise['Deixa-nos um comentário sobre o módulo Rise.'].str.lower();\n",
    "# eliminate whitespaces\n",
    "rise['Deixa-nos um comentário sobre o módulo Rise.']=rise['Deixa-nos um comentário sobre o módulo Rise.'].str.strip();\n"
   ]
  },
  {
   "cell_type": "code",
   "execution_count": null,
   "metadata": {},
   "outputs": [],
   "source": [
    "teste= [\" o \", \" a \",\" meu \",\"de \",\" é \",\" pois \",\" das \",\" eu \",\" trabalhar \", \" numa \",\"gostaria \", \" porque \", \" uma \",\" de \", \" e \", \" que \", \" a \", \" o \", \" na \", \" com \", \" um \", \" é \", \" as \", \" os \", \" em \", \" para \", \" da \", \" do \", \" no \", \" ou \"]\n",
    "rgx= '|'.join(teste)\n",
    "ocup_split=rise['Deixa-nos um comentário sobre o módulo Rise.'].str.replace(rgx,' ')\n",
    "ocup_split=ocup_split.str.split(' ', expand=True)\n",
    "ocup_split\n",
    "novo=ocup_split.stack()\n",
    "novo.value_counts()\n",
    "#novo.str.contains(\"studante|rabalhadora\").sum()\n",
    "#ocup_split"
   ]
  },
  {
   "cell_type": "code",
   "execution_count": null,
   "metadata": {},
   "outputs": [],
   "source": [
    "cond1=((rise['Deixa-nos um comentário sobre o módulo Rise.'].str.contains(\"ikigai\"))&(rise['Deixa-nos um comentário sobre o módulo Rise.'].str.contains(\"gost\")))\n",
    "cond2=((rise['Deixa-nos um comentário sobre o módulo Rise.'].str.contains(\"gost\"))&(rise['Deixa-nos um comentário sobre o módulo Rise.'].str.contains(\"celebr\")))\n",
    "cond3=((rise['Deixa-nos um comentário sobre o módulo Rise.'].str.contains(\"gost\"))&(rise['Deixa-nos um comentário sobre o módulo Rise.'].str.contains(\"menos\")))\n",
    "\n",
    "print('gostei ikigai')\n",
    "print((cond1).sum())\n",
    "print('gostei celebrar')\n",
    "print((cond2).sum())\n",
    "print('gostei menos')\n",
    "print((cond3).sum())\n",
    "\n",
    "cond4=((rise['Deixa-nos um comentário sobre o módulo Rise.'].str.contains(\"ikigai\"))&(rise['Deixa-nos um comentário sobre o módulo Rise.'].str.contains(\"aprend\")))\n",
    "cond5=((rise['Deixa-nos um comentário sobre o módulo Rise.'].str.contains(\"aprend\"))&(rise['Deixa-nos um comentário sobre o módulo Rise.'].str.contains(\"celebr\")))\n",
    "\n",
    "print('aprender ikigai')\n",
    "print((cond4).sum())\n",
    "print('aprender celebrar')\n",
    "print((cond5).sum())"
   ]
  },
  {
   "cell_type": "code",
   "execution_count": null,
   "metadata": {},
   "outputs": [],
   "source": [
    "rise.loc[cond3, ['Deixa-nos um comentário sobre o módulo Rise.']]"
   ]
  },
  {
   "cell_type": "code",
   "execution_count": null,
   "metadata": {},
   "outputs": [],
   "source": []
  },
  {
   "cell_type": "code",
   "execution_count": null,
   "metadata": {},
   "outputs": [],
   "source": []
  },
  {
   "cell_type": "code",
   "execution_count": null,
   "metadata": {},
   "outputs": [],
   "source": []
  },
  {
   "cell_type": "code",
   "execution_count": null,
   "metadata": {},
   "outputs": [],
   "source": [
    "print(rise['Deixa-nos um comentário sobre o módulo Rise.'].str.contains(\"aprendi\").sum())"
   ]
  },
  {
   "cell_type": "code",
   "execution_count": null,
   "metadata": {},
   "outputs": [],
   "source": [
    "cond1 = ((rise['Deixa-nos um comentário sobre o módulo Rise.'].str.contains(\"aprend\")))# & (rise['Deixa-nos um comentário sobre o módulo Rise.'].str.contains(\"trabalhadora\")))\n",
    "#cond2 = ((rise['Deixa-nos um comentário sobre o módulo Rise.'].str.contains(\"trab\")) & (rise['Deixa-nos um comentário sobre o módulo Rise.'].str.contains(\"est\")))\n",
    "\n",
    "jw=(rise.loc[cond1,['Deixa-nos um comentário sobre o módulo Rise.']])"
   ]
  },
  {
   "cell_type": "markdown",
   "metadata": {},
   "source": [
    "## Ficheiro \"Feedback Shine\" (shine)"
   ]
  },
  {
   "cell_type": "code",
   "execution_count": null,
   "metadata": {},
   "outputs": [],
   "source": [
    "shine.head(2)"
   ]
  },
  {
   "cell_type": "code",
   "execution_count": null,
   "metadata": {},
   "outputs": [],
   "source": [
    "shine.shape"
   ]
  },
  {
   "cell_type": "code",
   "execution_count": null,
   "metadata": {},
   "outputs": [],
   "source": [
    "shine.dtypes"
   ]
  },
  {
   "cell_type": "code",
   "execution_count": null,
   "metadata": {},
   "outputs": [],
   "source": [
    "shine.isnull().sum()"
   ]
  },
  {
   "cell_type": "code",
   "execution_count": null,
   "metadata": {},
   "outputs": [],
   "source": [
    "shine.nunique()"
   ]
  },
  {
   "cell_type": "code",
   "execution_count": null,
   "metadata": {},
   "outputs": [],
   "source": [
    "shine.describe()"
   ]
  },
  {
   "cell_type": "code",
   "execution_count": null,
   "metadata": {},
   "outputs": [],
   "source": [
    "# turn all strings lower\n",
    "shine['Qual a principal aprendizagem do módulo Shine?']=shine['Qual a principal aprendizagem do módulo Shine?'].str.lower();\n",
    "# eliminate whitespaces\n",
    "shine['Qual a principal aprendizagem do módulo Shine?']=shine['Qual a principal aprendizagem do módulo Shine?'].str.strip();\n"
   ]
  },
  {
   "cell_type": "code",
   "execution_count": null,
   "metadata": {},
   "outputs": [],
   "source": [
    "teste= [\" shine \", \" mas \",\" o \", \" a \",\" meu \",\"de \",\" é \",\" pois \",\" das \",\" eu \", \" numa \",\"gostaria \", \" porque \", \" uma \",\" de \", \" e \", \" que \", \" a \", \" o \", \" na \", \" com \", \" um \", \" é \", \" as \", \" os \", \" em \", \" para \", \" da \", \" do \", \" no \", \" ou \"]\n",
    "rgx= '|'.join(teste)\n",
    "ocup_split=shine['Qual a principal aprendizagem do módulo Shine?'].str.replace(rgx,' ')\n",
    "ocup_split=ocup_split.str.split(' ', expand=True)\n",
    "ocup_split\n",
    "novo=ocup_split.stack()\n",
    "novo.value_counts()\n",
    "#novo.str.contains(\"studante|rabalhadora\").sum()\n",
    "#ocup_split"
   ]
  },
  {
   "cell_type": "code",
   "execution_count": null,
   "metadata": {},
   "outputs": [],
   "source": [
    "cond1=((shine['Qual a principal aprendizagem do módulo Shine?'].str.contains(\"diferença\"))|(shine['Qual a principal aprendizagem do módulo Shine?'].str.contains(\"manas\"))|(shine['Qual a principal aprendizagem do módulo Shine?'].str.contains(\"influ\"))|(shine['Qual a principal aprendizagem do módulo Shine?'].str.contains(\"espalha\"))|(shine['Qual a principal aprendizagem do módulo Shine?'].str.contains(\"inspirar\")))\n",
    "\n",
    "print('Inspirar outros')\n",
    "print((cond1).sum())"
   ]
  },
  {
   "cell_type": "code",
   "execution_count": null,
   "metadata": {},
   "outputs": [],
   "source": [
    "i=0\n",
    "shine['Aprendizagem']=shine['Qual a principal aprendizagem do módulo Shine?']\n",
    "\n",
    "for k in shine['Qual a principal aprendizagem do módulo Shine?']:\n",
    "    list0=['diferença' in k];\n",
    "    list1=['manas' in k];\n",
    "    list2=['influ' in k];\n",
    "    list3=['espalha' in k];\n",
    "    list4=['inspirar' in k];\n",
    "    if all(list0) or all(list1) or all(list2) or all(list3) or all(list4):\n",
    "        shine['Aprendizagem'][i]='Inspirar Outras Pessoas'\n",
    "    else:\n",
    "        shine['Aprendizagem'][i]='Outra aprendizagem'\n",
    "    i+=1"
   ]
  },
  {
   "cell_type": "code",
   "execution_count": null,
   "metadata": {},
   "outputs": [],
   "source": [
    "i"
   ]
  },
  {
   "cell_type": "code",
   "execution_count": null,
   "metadata": {},
   "outputs": [],
   "source": [
    "ax=shine['Aprendizagem'].value_counts().plot(kind='pie',autopct='%.1f%%', fontsize=16, figsize=(10,6));\n",
    "ax.yaxis.set_visible(False)\n",
    "plt.savefig('Aprendizagem.png', dpi=300)"
   ]
  },
  {
   "cell_type": "code",
   "execution_count": null,
   "metadata": {},
   "outputs": [],
   "source": []
  },
  {
   "cell_type": "code",
   "execution_count": null,
   "metadata": {},
   "outputs": [],
   "source": [
    "shine.loc[cond1,['Qual a principal aprendizagem do módulo Shine?']]"
   ]
  },
  {
   "cell_type": "code",
   "execution_count": null,
   "metadata": {},
   "outputs": [],
   "source": []
  },
  {
   "cell_type": "code",
   "execution_count": null,
   "metadata": {},
   "outputs": [],
   "source": [
    "teste= [\" shine \", \" mas \",\" o \", \" a \",\" meu \",\"de \",\" é \",\" pois \",\" das \",\" eu \", \" numa \",\"gostaria \", \" porque \", \" uma \",\" de \", \" e \", \" que \", \" a \", \" o \", \" na \", \" com \", \" um \", \" é \", \" as \", \" os \", \" em \", \" para \", \" da \", \" do \", \" no \", \" ou \"]\n",
    "rgx= '|'.join(teste)\n",
    "ocup_split=shine['Deixa-nos um comentário sobre o módulo Shine.'].str.replace(rgx,' ')\n",
    "ocup_split=ocup_split.str.split(' ', expand=True)\n",
    "ocup_split\n",
    "novo=ocup_split.stack()\n",
    "novo.value_counts()\n",
    "#novo.str.contains(\"studante|rabalhadora\").sum()\n",
    "#ocup_split"
   ]
  },
  {
   "cell_type": "code",
   "execution_count": null,
   "metadata": {},
   "outputs": [],
   "source": [
    "cond1=((shine['Deixa-nos um comentário sobre o módulo Shine.'].str.contains(\"dific\"))|(shine['Deixa-nos um comentário sobre o módulo Shine.'].str.contains(\"difíc\")))#|(shine['Qual a principal aprendizagem do módulo Shine?'].str.contains(\"influen\"))|(shine['Qual a principal aprendizagem do módulo Shine?'].str.contains(\"espalha\"))|(shine['Qual a principal aprendizagem do módulo Shine?'].str.contains(\"inspirar\")))\n",
    "\n",
    "print('dificuldade')\n",
    "print((cond1).sum())"
   ]
  },
  {
   "cell_type": "code",
   "execution_count": null,
   "metadata": {},
   "outputs": [],
   "source": [
    "shine.loc[cond1,['Deixa-nos um comentário sobre o módulo Shine.']]"
   ]
  },
  {
   "cell_type": "code",
   "execution_count": null,
   "metadata": {},
   "outputs": [],
   "source": []
  },
  {
   "cell_type": "code",
   "execution_count": null,
   "metadata": {},
   "outputs": [],
   "source": [
    "shine.describe()"
   ]
  },
  {
   "cell_type": "code",
   "execution_count": null,
   "metadata": {},
   "outputs": [],
   "source": []
  },
  {
   "cell_type": "code",
   "execution_count": null,
   "metadata": {},
   "outputs": [],
   "source": []
  },
  {
   "cell_type": "markdown",
   "metadata": {},
   "source": [
    "## Ficheiro \"Relatório impacto\" (rel_impact)"
   ]
  },
  {
   "cell_type": "code",
   "execution_count": null,
   "metadata": {},
   "outputs": [],
   "source": [
    "rel_impact=pd.read_excel('Relatório de Impacto (Respostas).xlsx')"
   ]
  },
  {
   "cell_type": "code",
   "execution_count": null,
   "metadata": {},
   "outputs": [],
   "source": [
    "rel_impact.dtypes"
   ]
  },
  {
   "cell_type": "code",
   "execution_count": null,
   "metadata": {},
   "outputs": [],
   "source": [
    "rel_impact=rel_impact.drop(columns=['Idade'])\n",
    "rel_impact=rel_impact.astype(str)\n",
    "# turn all strings lower\n",
    "rel_impact=rel_impact.applymap(str.lower);\n",
    "# eliminate whitespaces\n",
    "rel_impact=rel_impact.applymap(str.strip);"
   ]
  },
  {
   "cell_type": "code",
   "execution_count": null,
   "metadata": {},
   "outputs": [],
   "source": []
  },
  {
   "cell_type": "code",
   "execution_count": null,
   "metadata": {},
   "outputs": [],
   "source": [
    "rel_impact.isnull().sum()"
   ]
  },
  {
   "cell_type": "code",
   "execution_count": null,
   "metadata": {},
   "outputs": [],
   "source": [
    "rel_impact['Tiveram atividades para a comunidade?'].value_counts()"
   ]
  },
  {
   "cell_type": "code",
   "execution_count": null,
   "metadata": {},
   "outputs": [],
   "source": [
    "rel_impact=rel_impact.replace(np.nan, '')#(value='', inplace=True)"
   ]
  },
  {
   "cell_type": "code",
   "execution_count": null,
   "metadata": {},
   "outputs": [],
   "source": [
    "rel_impact['Tiveram atividades para a comunidade?'].value_counts()"
   ]
  },
  {
   "cell_type": "code",
   "execution_count": null,
   "metadata": {},
   "outputs": [],
   "source": [
    "rel_impact['novo_ac']=rel_impact['Tiveram atividades para a comunidade?']+rel_impact['Tiveram atividades para a comunidade?.1']"
   ]
  },
  {
   "cell_type": "code",
   "execution_count": null,
   "metadata": {},
   "outputs": [],
   "source": []
  },
  {
   "cell_type": "code",
   "execution_count": null,
   "metadata": {},
   "outputs": [],
   "source": [
    "\n",
    "rel_impact['novo']= ((rel_impact['Que atividades desenvolveste?']) + (rel_impact['Que atividades desenvolveram?']))"
   ]
  },
  {
   "cell_type": "code",
   "execution_count": null,
   "metadata": {},
   "outputs": [],
   "source": [
    "rel_impact['novo'];"
   ]
  },
  {
   "cell_type": "code",
   "execution_count": null,
   "metadata": {},
   "outputs": [],
   "source": [
    "teste= [\"como \",\" elas \", \"que\",\" mas \",\" o \", \" a \",\" meu \",\"de \",\" é \",\" pois \",\" das \",\" eu \", \" numa \", \" uma \",\" de \", \" e \", \" que \", \" a \", \" o \", \" na \", \" com \", \" um \", \" é \", \" as \", \" os \", \" em \", \" para \", \" da \", \" do \", \" no \", \" ou \"]\n",
    "rgx= '|'.join(teste)\n",
    "ocup_split=rel_impact['novo'].str.replace(rgx,' ')\n",
    "ocup_split=ocup_split.str.split(' ', expand=True)\n",
    "ocup_split\n",
    "novo=ocup_split.stack()\n",
    "novo.value_counts()\n",
    "#novo.str.contains(\"studante|rabalhadora\").sum()\n",
    "#ocup_split"
   ]
  },
  {
   "cell_type": "code",
   "execution_count": null,
   "metadata": {},
   "outputs": [],
   "source": [
    "rel_impact.dtypes"
   ]
  },
  {
   "cell_type": "code",
   "execution_count": null,
   "metadata": {},
   "outputs": [],
   "source": [
    "#sisterhoodcircle sozinha vs em par\n",
    "rel_impact['Fizeste acontecer o sisterhoodcircle sozinha ou com outra mana?'].value_counts().plot(kind='bar');"
   ]
  },
  {
   "cell_type": "code",
   "execution_count": null,
   "metadata": {},
   "outputs": [],
   "source": [
    "teste= [\" mas \",\" o \", \" a \",\" meu \",\"de \",\" é \",\" pois \",\" das \",\" eu \", \" numa \",\"gostaria \", \" porque \", \" uma \",\" de \", \" e \", \" que \", \" a \", \" o \", \" na \", \" com \", \" um \", \" é \", \" as \", \" os \", \" em \", \" para \", \" da \", \" do \", \" no \", \" ou \"]\n",
    "rgx= '|'.join(teste)\n",
    "ocup_split=rel_impact['Que atividades desenvolveste?'].str.replace(rgx,' ')\n",
    "ocup_split=ocup_split.str.split(' ', expand=True)\n",
    "ocup_split\n",
    "novo=ocup_split.stack()\n",
    "novo.value_counts()\n",
    "#novo.str.contains(\"studante|rabalhadora\").sum()\n",
    "#ocup_split"
   ]
  },
  {
   "cell_type": "code",
   "execution_count": null,
   "metadata": {},
   "outputs": [],
   "source": [
    "rel_impact.nunique()\n",
    "\n",
    "# Só deveriam existir 2 respostas à pergunta 5. Resolver"
   ]
  },
  {
   "cell_type": "markdown",
   "metadata": {},
   "source": [
    "### Análise Extra"
   ]
  },
  {
   "cell_type": "code",
   "execution_count": null,
   "metadata": {},
   "outputs": [],
   "source": [
    "X.describe()"
   ]
  },
  {
   "cell_type": "code",
   "execution_count": null,
   "metadata": {},
   "outputs": [],
   "source": [
    "table = pd.crosstab(X['Nova Ocupação Actual'], X['Nova Próximos Passos'])\n",
    "display(table)\n",
    "chi2, pval, dof, expected=stats.chi2_contingency(table)\n",
    "print(expected)\n",
    "print(pval)"
   ]
  },
  {
   "cell_type": "markdown",
   "metadata": {},
   "source": [
    "O chi-square test entre os próximos passos das candidatas e a sua ocupação actual mostra que a relação entre estas 2 variáveis é estatisticamente significativa (p-value <0.05). Podemos assim dizer que as 2 variáveis estão relacionadas. "
   ]
  },
  {
   "cell_type": "code",
   "execution_count": null,
   "metadata": {},
   "outputs": [],
   "source": [
    "table.plot(kind=\"bar\", figsize=(10,6), fontsize=12);#,stacked=True);"
   ]
  },
  {
   "cell_type": "code",
   "execution_count": null,
   "metadata": {},
   "outputs": [],
   "source": []
  }
 ],
 "metadata": {
  "kernelspec": {
   "display_name": "Python 3",
   "language": "python",
   "name": "python3"
  },
  "language_info": {
   "codemirror_mode": {
    "name": "ipython",
    "version": 3
   },
   "file_extension": ".py",
   "mimetype": "text/x-python",
   "name": "python",
   "nbconvert_exporter": "python",
   "pygments_lexer": "ipython3",
   "version": "3.7.3"
  }
 },
 "nbformat": 4,
 "nbformat_minor": 4
}
